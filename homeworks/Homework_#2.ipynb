{
 "cells": [
  {
   "cell_type": "markdown",
   "metadata": {},
   "source": [
    "## Introduction to Modeling with Python\n",
    "\n",
    "Now that we have seen some examples of modeling and using Python for modeling, we wanted to give you a chance to try your hand!\n",
    "\n",
    "To that goal, we choose a well structured problem with plenty of resources online to help you along the way. That problem is predicting housing prices and is hosted on Kaggle:\n",
    "\n",
    "https://www.kaggle.com/c/house-prices-advanced-regression-techniques\n",
    "\n",
    "First, make sure you are signed up on Kaggle and then download the data:\n",
    "\n",
    "https://www.kaggle.com/c/house-prices-advanced-regression-techniques/data\n",
    "\n",
    "The data includes both testing and training sets as well as a sample submission file. \n",
    "\n",
    "Your goal is the predict the sales price for each house where root mean squared error is the evaluation metric. To get some ideas on where to start, feel free to check out Kaggle Kernels:\n",
    "\n",
    "https://www.kaggle.com/c/house-prices-advanced-regression-techniques/kernels\n",
    "\n",
    "And the discussion board:\n",
    "\n",
    "https://www.kaggle.com/c/house-prices-advanced-regression-techniques/discussion\n",
    "\n",
    "Again - the goal of this homework is to get you exposed to modeling with Python. Feel free to use online resources to help guide you, but we expect original thought as well. Our hope is by the end of this homework you will feel comfortable exploring data in Python and building models to make predictions. Also please submit your test results to Kaggle and let us know your ranking and score!\n",
    "\n",
    "\n",
    "### Grading\n",
    "\n",
    "This homework is due **Feb. 20, 2018 by 3:00pm Utah time.** By that time, you need to have committed all your code to your github and submitted a link to your work to the TA. We can see on your Github account when you last committed code. :)\n",
    "\n",
    "Rubric:\n",
    "\n",
    "* Code Quality - 10%\n",
    "* Storytelling - 10%\n",
    "* Result on Kaggle - 5%\n",
    "* Describing, Cleaning, and Visualizing data - 25%\n",
    "* Modeling - 50%\n",
    "\n",
    "More specifically, for modeling we will look for: \n",
    "\n",
    "* Model Selection: Did you try multiple models? Why did you choose these models? How do they work? What are their assumptions? And how did you test/account for them? How did you select hyper-parameters?\n",
    "* Model interpretation: What do the model results tell you? Which variables are important? High bias or variance and how did you / could you fix this? How confident are you in your results? \n",
    "* Model usefulness: Do you think your final model was useful? If so, how would you recommend using it? Convince us, that if we were a company, we would feel comfortable using your model with our users. Think about edge cases as well - are there certain areas that the model performs poorly on? Best on? How would you handle these cases, if say Zillow wanted to leverage your model realizing that bad recommendations on sale prices would hurt customer trust and your brand. This section also falls into the storytelling aspect of the grading."
   ]
  },
  {
   "cell_type": "code",
   "execution_count": 2844,
   "metadata": {},
   "outputs": [],
   "source": [
    "import pandas as pd\n",
    "import numpy as np\n",
    "import statsmodels.api as sm\n",
    "import statsmodels.formula.api as smf\n",
    "import matplotlib as mpl\n",
    "import matplotlib.pyplot as plt\n",
    "from sklearn import linear_model\n",
    "from sklearn.model_selection import train_test_split\n",
    "from sklearn.metrics import mean_squared_error\n",
    "from sklearn.preprocessing import StandardScaler\n",
    "from sklearn.metrics import mean_squared_error, r2_score\n",
    "from sklearn.linear_model import SGDRegressor\n",
    "import seaborn as sns #plt.style.use(“seaborn”)\n",
    "%matplotlib inline\n",
    "from scipy import stats\n",
    "#from statsmodels.iolib.summary2 import summary_col\n",
    "#summary_col([reg0,reg1,reg2,reg3,reg4])\n",
    "#from pandas.core import datetools\n",
    "#pandas.tseries module"
   ]
  },
  {
   "cell_type": "markdown",
   "metadata": {},
   "source": [
    "My goal is to create a model that predicts housing prices well even outside of sample.  First I'll read in the train and test data."
   ]
  },
  {
   "cell_type": "code",
   "execution_count": 2845,
   "metadata": {},
   "outputs": [
    {
     "data": {
      "text/html": [
       "<div>\n",
       "<style>\n",
       "    .dataframe thead tr:only-child th {\n",
       "        text-align: right;\n",
       "    }\n",
       "\n",
       "    .dataframe thead th {\n",
       "        text-align: left;\n",
       "    }\n",
       "\n",
       "    .dataframe tbody tr th {\n",
       "        vertical-align: top;\n",
       "    }\n",
       "</style>\n",
       "<table border=\"1\" class=\"dataframe\">\n",
       "  <thead>\n",
       "    <tr style=\"text-align: right;\">\n",
       "      <th></th>\n",
       "      <th>Id</th>\n",
       "      <th>MSSubClass</th>\n",
       "      <th>MSZoning</th>\n",
       "      <th>LotFrontage</th>\n",
       "      <th>LotArea</th>\n",
       "      <th>Street</th>\n",
       "      <th>Alley</th>\n",
       "      <th>LotShape</th>\n",
       "      <th>LandContour</th>\n",
       "      <th>Utilities</th>\n",
       "      <th>...</th>\n",
       "      <th>PoolArea</th>\n",
       "      <th>PoolQC</th>\n",
       "      <th>Fence</th>\n",
       "      <th>MiscFeature</th>\n",
       "      <th>MiscVal</th>\n",
       "      <th>MoSold</th>\n",
       "      <th>YrSold</th>\n",
       "      <th>SaleType</th>\n",
       "      <th>SaleCondition</th>\n",
       "      <th>SalePrice</th>\n",
       "    </tr>\n",
       "  </thead>\n",
       "  <tbody>\n",
       "    <tr>\n",
       "      <th>1455</th>\n",
       "      <td>1456</td>\n",
       "      <td>60</td>\n",
       "      <td>RL</td>\n",
       "      <td>62.0</td>\n",
       "      <td>7917</td>\n",
       "      <td>Pave</td>\n",
       "      <td>NaN</td>\n",
       "      <td>Reg</td>\n",
       "      <td>Lvl</td>\n",
       "      <td>AllPub</td>\n",
       "      <td>...</td>\n",
       "      <td>0</td>\n",
       "      <td>NaN</td>\n",
       "      <td>NaN</td>\n",
       "      <td>NaN</td>\n",
       "      <td>0</td>\n",
       "      <td>8</td>\n",
       "      <td>2007</td>\n",
       "      <td>WD</td>\n",
       "      <td>Normal</td>\n",
       "      <td>175000</td>\n",
       "    </tr>\n",
       "    <tr>\n",
       "      <th>1456</th>\n",
       "      <td>1457</td>\n",
       "      <td>20</td>\n",
       "      <td>RL</td>\n",
       "      <td>85.0</td>\n",
       "      <td>13175</td>\n",
       "      <td>Pave</td>\n",
       "      <td>NaN</td>\n",
       "      <td>Reg</td>\n",
       "      <td>Lvl</td>\n",
       "      <td>AllPub</td>\n",
       "      <td>...</td>\n",
       "      <td>0</td>\n",
       "      <td>NaN</td>\n",
       "      <td>MnPrv</td>\n",
       "      <td>NaN</td>\n",
       "      <td>0</td>\n",
       "      <td>2</td>\n",
       "      <td>2010</td>\n",
       "      <td>WD</td>\n",
       "      <td>Normal</td>\n",
       "      <td>210000</td>\n",
       "    </tr>\n",
       "    <tr>\n",
       "      <th>1457</th>\n",
       "      <td>1458</td>\n",
       "      <td>70</td>\n",
       "      <td>RL</td>\n",
       "      <td>66.0</td>\n",
       "      <td>9042</td>\n",
       "      <td>Pave</td>\n",
       "      <td>NaN</td>\n",
       "      <td>Reg</td>\n",
       "      <td>Lvl</td>\n",
       "      <td>AllPub</td>\n",
       "      <td>...</td>\n",
       "      <td>0</td>\n",
       "      <td>NaN</td>\n",
       "      <td>GdPrv</td>\n",
       "      <td>Shed</td>\n",
       "      <td>2500</td>\n",
       "      <td>5</td>\n",
       "      <td>2010</td>\n",
       "      <td>WD</td>\n",
       "      <td>Normal</td>\n",
       "      <td>266500</td>\n",
       "    </tr>\n",
       "    <tr>\n",
       "      <th>1458</th>\n",
       "      <td>1459</td>\n",
       "      <td>20</td>\n",
       "      <td>RL</td>\n",
       "      <td>68.0</td>\n",
       "      <td>9717</td>\n",
       "      <td>Pave</td>\n",
       "      <td>NaN</td>\n",
       "      <td>Reg</td>\n",
       "      <td>Lvl</td>\n",
       "      <td>AllPub</td>\n",
       "      <td>...</td>\n",
       "      <td>0</td>\n",
       "      <td>NaN</td>\n",
       "      <td>NaN</td>\n",
       "      <td>NaN</td>\n",
       "      <td>0</td>\n",
       "      <td>4</td>\n",
       "      <td>2010</td>\n",
       "      <td>WD</td>\n",
       "      <td>Normal</td>\n",
       "      <td>142125</td>\n",
       "    </tr>\n",
       "    <tr>\n",
       "      <th>1459</th>\n",
       "      <td>1460</td>\n",
       "      <td>20</td>\n",
       "      <td>RL</td>\n",
       "      <td>75.0</td>\n",
       "      <td>9937</td>\n",
       "      <td>Pave</td>\n",
       "      <td>NaN</td>\n",
       "      <td>Reg</td>\n",
       "      <td>Lvl</td>\n",
       "      <td>AllPub</td>\n",
       "      <td>...</td>\n",
       "      <td>0</td>\n",
       "      <td>NaN</td>\n",
       "      <td>NaN</td>\n",
       "      <td>NaN</td>\n",
       "      <td>0</td>\n",
       "      <td>6</td>\n",
       "      <td>2008</td>\n",
       "      <td>WD</td>\n",
       "      <td>Normal</td>\n",
       "      <td>147500</td>\n",
       "    </tr>\n",
       "  </tbody>\n",
       "</table>\n",
       "<p>5 rows × 81 columns</p>\n",
       "</div>"
      ],
      "text/plain": [
       "        Id  MSSubClass MSZoning  LotFrontage  LotArea Street Alley LotShape  \\\n",
       "1455  1456          60       RL         62.0     7917   Pave   NaN      Reg   \n",
       "1456  1457          20       RL         85.0    13175   Pave   NaN      Reg   \n",
       "1457  1458          70       RL         66.0     9042   Pave   NaN      Reg   \n",
       "1458  1459          20       RL         68.0     9717   Pave   NaN      Reg   \n",
       "1459  1460          20       RL         75.0     9937   Pave   NaN      Reg   \n",
       "\n",
       "     LandContour Utilities    ...     PoolArea PoolQC  Fence MiscFeature  \\\n",
       "1455         Lvl    AllPub    ...            0    NaN    NaN         NaN   \n",
       "1456         Lvl    AllPub    ...            0    NaN  MnPrv         NaN   \n",
       "1457         Lvl    AllPub    ...            0    NaN  GdPrv        Shed   \n",
       "1458         Lvl    AllPub    ...            0    NaN    NaN         NaN   \n",
       "1459         Lvl    AllPub    ...            0    NaN    NaN         NaN   \n",
       "\n",
       "     MiscVal MoSold YrSold  SaleType  SaleCondition  SalePrice  \n",
       "1455       0      8   2007        WD         Normal     175000  \n",
       "1456       0      2   2010        WD         Normal     210000  \n",
       "1457    2500      5   2010        WD         Normal     266500  \n",
       "1458       0      4   2010        WD         Normal     142125  \n",
       "1459       0      6   2008        WD         Normal     147500  \n",
       "\n",
       "[5 rows x 81 columns]"
      ]
     },
     "execution_count": 2845,
     "metadata": {},
     "output_type": "execute_result"
    }
   ],
   "source": [
    "train=pd.read_csv('train.csv')\n",
    "train.tail()"
   ]
  },
  {
   "cell_type": "code",
   "execution_count": 2846,
   "metadata": {},
   "outputs": [
    {
     "data": {
      "text/html": [
       "<div>\n",
       "<style>\n",
       "    .dataframe thead tr:only-child th {\n",
       "        text-align: right;\n",
       "    }\n",
       "\n",
       "    .dataframe thead th {\n",
       "        text-align: left;\n",
       "    }\n",
       "\n",
       "    .dataframe tbody tr th {\n",
       "        vertical-align: top;\n",
       "    }\n",
       "</style>\n",
       "<table border=\"1\" class=\"dataframe\">\n",
       "  <thead>\n",
       "    <tr style=\"text-align: right;\">\n",
       "      <th></th>\n",
       "      <th>Id</th>\n",
       "      <th>MSSubClass</th>\n",
       "      <th>MSZoning</th>\n",
       "      <th>LotFrontage</th>\n",
       "      <th>LotArea</th>\n",
       "      <th>Street</th>\n",
       "      <th>Alley</th>\n",
       "      <th>LotShape</th>\n",
       "      <th>LandContour</th>\n",
       "      <th>Utilities</th>\n",
       "      <th>...</th>\n",
       "      <th>ScreenPorch</th>\n",
       "      <th>PoolArea</th>\n",
       "      <th>PoolQC</th>\n",
       "      <th>Fence</th>\n",
       "      <th>MiscFeature</th>\n",
       "      <th>MiscVal</th>\n",
       "      <th>MoSold</th>\n",
       "      <th>YrSold</th>\n",
       "      <th>SaleType</th>\n",
       "      <th>SaleCondition</th>\n",
       "    </tr>\n",
       "  </thead>\n",
       "  <tbody>\n",
       "    <tr>\n",
       "      <th>1454</th>\n",
       "      <td>2915</td>\n",
       "      <td>160</td>\n",
       "      <td>RM</td>\n",
       "      <td>21.0</td>\n",
       "      <td>1936</td>\n",
       "      <td>Pave</td>\n",
       "      <td>NaN</td>\n",
       "      <td>Reg</td>\n",
       "      <td>Lvl</td>\n",
       "      <td>AllPub</td>\n",
       "      <td>...</td>\n",
       "      <td>0</td>\n",
       "      <td>0</td>\n",
       "      <td>NaN</td>\n",
       "      <td>NaN</td>\n",
       "      <td>NaN</td>\n",
       "      <td>0</td>\n",
       "      <td>6</td>\n",
       "      <td>2006</td>\n",
       "      <td>WD</td>\n",
       "      <td>Normal</td>\n",
       "    </tr>\n",
       "    <tr>\n",
       "      <th>1455</th>\n",
       "      <td>2916</td>\n",
       "      <td>160</td>\n",
       "      <td>RM</td>\n",
       "      <td>21.0</td>\n",
       "      <td>1894</td>\n",
       "      <td>Pave</td>\n",
       "      <td>NaN</td>\n",
       "      <td>Reg</td>\n",
       "      <td>Lvl</td>\n",
       "      <td>AllPub</td>\n",
       "      <td>...</td>\n",
       "      <td>0</td>\n",
       "      <td>0</td>\n",
       "      <td>NaN</td>\n",
       "      <td>NaN</td>\n",
       "      <td>NaN</td>\n",
       "      <td>0</td>\n",
       "      <td>4</td>\n",
       "      <td>2006</td>\n",
       "      <td>WD</td>\n",
       "      <td>Abnorml</td>\n",
       "    </tr>\n",
       "    <tr>\n",
       "      <th>1456</th>\n",
       "      <td>2917</td>\n",
       "      <td>20</td>\n",
       "      <td>RL</td>\n",
       "      <td>160.0</td>\n",
       "      <td>20000</td>\n",
       "      <td>Pave</td>\n",
       "      <td>NaN</td>\n",
       "      <td>Reg</td>\n",
       "      <td>Lvl</td>\n",
       "      <td>AllPub</td>\n",
       "      <td>...</td>\n",
       "      <td>0</td>\n",
       "      <td>0</td>\n",
       "      <td>NaN</td>\n",
       "      <td>NaN</td>\n",
       "      <td>NaN</td>\n",
       "      <td>0</td>\n",
       "      <td>9</td>\n",
       "      <td>2006</td>\n",
       "      <td>WD</td>\n",
       "      <td>Abnorml</td>\n",
       "    </tr>\n",
       "    <tr>\n",
       "      <th>1457</th>\n",
       "      <td>2918</td>\n",
       "      <td>85</td>\n",
       "      <td>RL</td>\n",
       "      <td>62.0</td>\n",
       "      <td>10441</td>\n",
       "      <td>Pave</td>\n",
       "      <td>NaN</td>\n",
       "      <td>Reg</td>\n",
       "      <td>Lvl</td>\n",
       "      <td>AllPub</td>\n",
       "      <td>...</td>\n",
       "      <td>0</td>\n",
       "      <td>0</td>\n",
       "      <td>NaN</td>\n",
       "      <td>MnPrv</td>\n",
       "      <td>Shed</td>\n",
       "      <td>700</td>\n",
       "      <td>7</td>\n",
       "      <td>2006</td>\n",
       "      <td>WD</td>\n",
       "      <td>Normal</td>\n",
       "    </tr>\n",
       "    <tr>\n",
       "      <th>1458</th>\n",
       "      <td>2919</td>\n",
       "      <td>60</td>\n",
       "      <td>RL</td>\n",
       "      <td>74.0</td>\n",
       "      <td>9627</td>\n",
       "      <td>Pave</td>\n",
       "      <td>NaN</td>\n",
       "      <td>Reg</td>\n",
       "      <td>Lvl</td>\n",
       "      <td>AllPub</td>\n",
       "      <td>...</td>\n",
       "      <td>0</td>\n",
       "      <td>0</td>\n",
       "      <td>NaN</td>\n",
       "      <td>NaN</td>\n",
       "      <td>NaN</td>\n",
       "      <td>0</td>\n",
       "      <td>11</td>\n",
       "      <td>2006</td>\n",
       "      <td>WD</td>\n",
       "      <td>Normal</td>\n",
       "    </tr>\n",
       "  </tbody>\n",
       "</table>\n",
       "<p>5 rows × 80 columns</p>\n",
       "</div>"
      ],
      "text/plain": [
       "        Id  MSSubClass MSZoning  LotFrontage  LotArea Street Alley LotShape  \\\n",
       "1454  2915         160       RM         21.0     1936   Pave   NaN      Reg   \n",
       "1455  2916         160       RM         21.0     1894   Pave   NaN      Reg   \n",
       "1456  2917          20       RL        160.0    20000   Pave   NaN      Reg   \n",
       "1457  2918          85       RL         62.0    10441   Pave   NaN      Reg   \n",
       "1458  2919          60       RL         74.0     9627   Pave   NaN      Reg   \n",
       "\n",
       "     LandContour Utilities      ...       ScreenPorch PoolArea PoolQC  Fence  \\\n",
       "1454         Lvl    AllPub      ...                 0        0    NaN    NaN   \n",
       "1455         Lvl    AllPub      ...                 0        0    NaN    NaN   \n",
       "1456         Lvl    AllPub      ...                 0        0    NaN    NaN   \n",
       "1457         Lvl    AllPub      ...                 0        0    NaN  MnPrv   \n",
       "1458         Lvl    AllPub      ...                 0        0    NaN    NaN   \n",
       "\n",
       "     MiscFeature MiscVal MoSold  YrSold  SaleType  SaleCondition  \n",
       "1454         NaN       0      6    2006        WD         Normal  \n",
       "1455         NaN       0      4    2006        WD        Abnorml  \n",
       "1456         NaN       0      9    2006        WD        Abnorml  \n",
       "1457        Shed     700      7    2006        WD         Normal  \n",
       "1458         NaN       0     11    2006        WD         Normal  \n",
       "\n",
       "[5 rows x 80 columns]"
      ]
     },
     "execution_count": 2846,
     "metadata": {},
     "output_type": "execute_result"
    }
   ],
   "source": [
    "test=pd.read_csv('test.csv')\n",
    "test.tail()"
   ]
  },
  {
   "cell_type": "markdown",
   "metadata": {},
   "source": [
    "Now I'm ready to dive into my data!"
   ]
  },
  {
   "cell_type": "markdown",
   "metadata": {},
   "source": [
    "### **Data Cleaning**\n",
    "\n",
    "I will isolate the variables for which over 50% of the observations are grouped in one category.  I classify these variables as dropped and will not include them in my  models."
   ]
  },
  {
   "cell_type": "code",
   "execution_count": 2847,
   "metadata": {
    "collapsed": true
   },
   "outputs": [],
   "source": [
    "dropped = []\n",
    "for i in train:\n",
    "   if train[i].dtype == 'object':\n",
    "       if train[i].value_counts(normalize=True, dropna= False).iloc[0] > .5:\n",
    "            #print (train[i].value_counts(normalize=True))\n",
    "            dropped.append(i)"
   ]
  },
  {
   "cell_type": "markdown",
   "metadata": {},
   "source": [
    "From the documentation provided by Kaggle, I can see that Central Air is a binary variable for whether or not the home has air conditioning.  I don't actually want to drop this because it might be a good indicator of home value and almost certainly more than 50% of homes into either the yes or no category."
   ]
  },
  {
   "cell_type": "code",
   "execution_count": 2848,
   "metadata": {},
   "outputs": [],
   "source": [
    "dropped.remove('CentralAir')"
   ]
  },
  {
   "cell_type": "markdown",
   "metadata": {},
   "source": [
    "I'm also going to put the dropped array into a format that is easier to work with later. "
   ]
  },
  {
   "cell_type": "code",
   "execution_count": 2849,
   "metadata": {
    "collapsed": true
   },
   "outputs": [],
   "source": [
    "dropped=train[['Street',\n",
    " 'Alley',\n",
    " 'LotShape',\n",
    " 'LandContour',\n",
    " 'LotConfig',\n",
    " 'LandSlope',\n",
    " 'Condition1',\n",
    " 'Condition2',\n",
    " 'BldgType',\n",
    " 'MasVnrType',\n",
    " 'ExterQual',\n",
    " 'ExterCond',\n",
    " 'BsmtCond',\n",
    " 'BsmtExposure',\n",
    " 'BsmtFinType2',\n",
    " 'Heating',\n",
    " 'HeatingQC',\n",
    " 'Electrical',\n",
    " 'KitchenQual',\n",
    " 'Functional',\n",
    " 'GarageType',\n",
    " 'GarageQual',\n",
    " 'GarageCond',\n",
    " 'PoolQC',\n",
    " 'Fence',\n",
    " 'MiscFeature',\n",
    " 'SaleType',\n",
    " 'SaleCondition']]"
   ]
  },
  {
   "cell_type": "markdown",
   "metadata": {},
   "source": [
    "I carefully look through the documentation and make some determinations about the categorigal and quantitative variables I have to work with.  There are many categorical variables I can productively convert to dummy variables and a few I may be able to convert to meaningful quantitative variables.  Some qualitative variables such as OverallQual follow a Likert scale and already make sense as quantitatve variables.  I will start by converting MSZoning, Utilities, Neighborhood, RoofStyle, RoofMatl, Exterior1st, BsmtFinType1, FireplaceQu into dummy variables. "
   ]
  },
  {
   "cell_type": "code",
   "execution_count": 2850,
   "metadata": {},
   "outputs": [
    {
     "data": {
      "text/html": [
       "<div>\n",
       "<style>\n",
       "    .dataframe thead tr:only-child th {\n",
       "        text-align: right;\n",
       "    }\n",
       "\n",
       "    .dataframe thead th {\n",
       "        text-align: left;\n",
       "    }\n",
       "\n",
       "    .dataframe tbody tr th {\n",
       "        vertical-align: top;\n",
       "    }\n",
       "</style>\n",
       "<table border=\"1\" class=\"dataframe\">\n",
       "  <thead>\n",
       "    <tr style=\"text-align: right;\">\n",
       "      <th></th>\n",
       "      <th>Id</th>\n",
       "      <th>MSSubClass</th>\n",
       "      <th>LotFrontage</th>\n",
       "      <th>LotArea</th>\n",
       "      <th>Street</th>\n",
       "      <th>Alley</th>\n",
       "      <th>LotShape</th>\n",
       "      <th>LandContour</th>\n",
       "      <th>LotConfig</th>\n",
       "      <th>LandSlope</th>\n",
       "      <th>...</th>\n",
       "      <th>Paving_P</th>\n",
       "      <th>Paving_Y</th>\n",
       "      <th>Foundation_BrkTil</th>\n",
       "      <th>Foundation_CBlock</th>\n",
       "      <th>Foundation_PConc</th>\n",
       "      <th>Foundation_Slab</th>\n",
       "      <th>Foundation_Stone</th>\n",
       "      <th>Foundation_Wood</th>\n",
       "      <th>CentralAir_N</th>\n",
       "      <th>CentralAir_Y</th>\n",
       "    </tr>\n",
       "  </thead>\n",
       "  <tbody>\n",
       "    <tr>\n",
       "      <th>0</th>\n",
       "      <td>1</td>\n",
       "      <td>60</td>\n",
       "      <td>65.0</td>\n",
       "      <td>8450</td>\n",
       "      <td>Pave</td>\n",
       "      <td>NaN</td>\n",
       "      <td>Reg</td>\n",
       "      <td>Lvl</td>\n",
       "      <td>Inside</td>\n",
       "      <td>Gtl</td>\n",
       "      <td>...</td>\n",
       "      <td>0</td>\n",
       "      <td>1</td>\n",
       "      <td>0</td>\n",
       "      <td>0</td>\n",
       "      <td>1</td>\n",
       "      <td>0</td>\n",
       "      <td>0</td>\n",
       "      <td>0</td>\n",
       "      <td>0</td>\n",
       "      <td>1</td>\n",
       "    </tr>\n",
       "    <tr>\n",
       "      <th>1</th>\n",
       "      <td>2</td>\n",
       "      <td>20</td>\n",
       "      <td>80.0</td>\n",
       "      <td>9600</td>\n",
       "      <td>Pave</td>\n",
       "      <td>NaN</td>\n",
       "      <td>Reg</td>\n",
       "      <td>Lvl</td>\n",
       "      <td>FR2</td>\n",
       "      <td>Gtl</td>\n",
       "      <td>...</td>\n",
       "      <td>0</td>\n",
       "      <td>1</td>\n",
       "      <td>0</td>\n",
       "      <td>1</td>\n",
       "      <td>0</td>\n",
       "      <td>0</td>\n",
       "      <td>0</td>\n",
       "      <td>0</td>\n",
       "      <td>0</td>\n",
       "      <td>1</td>\n",
       "    </tr>\n",
       "    <tr>\n",
       "      <th>2</th>\n",
       "      <td>3</td>\n",
       "      <td>60</td>\n",
       "      <td>68.0</td>\n",
       "      <td>11250</td>\n",
       "      <td>Pave</td>\n",
       "      <td>NaN</td>\n",
       "      <td>IR1</td>\n",
       "      <td>Lvl</td>\n",
       "      <td>Inside</td>\n",
       "      <td>Gtl</td>\n",
       "      <td>...</td>\n",
       "      <td>0</td>\n",
       "      <td>1</td>\n",
       "      <td>0</td>\n",
       "      <td>0</td>\n",
       "      <td>1</td>\n",
       "      <td>0</td>\n",
       "      <td>0</td>\n",
       "      <td>0</td>\n",
       "      <td>0</td>\n",
       "      <td>1</td>\n",
       "    </tr>\n",
       "    <tr>\n",
       "      <th>3</th>\n",
       "      <td>4</td>\n",
       "      <td>70</td>\n",
       "      <td>60.0</td>\n",
       "      <td>9550</td>\n",
       "      <td>Pave</td>\n",
       "      <td>NaN</td>\n",
       "      <td>IR1</td>\n",
       "      <td>Lvl</td>\n",
       "      <td>Corner</td>\n",
       "      <td>Gtl</td>\n",
       "      <td>...</td>\n",
       "      <td>0</td>\n",
       "      <td>1</td>\n",
       "      <td>1</td>\n",
       "      <td>0</td>\n",
       "      <td>0</td>\n",
       "      <td>0</td>\n",
       "      <td>0</td>\n",
       "      <td>0</td>\n",
       "      <td>0</td>\n",
       "      <td>1</td>\n",
       "    </tr>\n",
       "    <tr>\n",
       "      <th>4</th>\n",
       "      <td>5</td>\n",
       "      <td>60</td>\n",
       "      <td>84.0</td>\n",
       "      <td>14260</td>\n",
       "      <td>Pave</td>\n",
       "      <td>NaN</td>\n",
       "      <td>IR1</td>\n",
       "      <td>Lvl</td>\n",
       "      <td>FR2</td>\n",
       "      <td>Gtl</td>\n",
       "      <td>...</td>\n",
       "      <td>0</td>\n",
       "      <td>1</td>\n",
       "      <td>0</td>\n",
       "      <td>0</td>\n",
       "      <td>1</td>\n",
       "      <td>0</td>\n",
       "      <td>0</td>\n",
       "      <td>0</td>\n",
       "      <td>0</td>\n",
       "      <td>1</td>\n",
       "    </tr>\n",
       "  </tbody>\n",
       "</table>\n",
       "<p>5 rows × 153 columns</p>\n",
       "</div>"
      ],
      "text/plain": [
       "   Id  MSSubClass  LotFrontage  LotArea Street Alley LotShape LandContour  \\\n",
       "0   1          60         65.0     8450   Pave   NaN      Reg         Lvl   \n",
       "1   2          20         80.0     9600   Pave   NaN      Reg         Lvl   \n",
       "2   3          60         68.0    11250   Pave   NaN      IR1         Lvl   \n",
       "3   4          70         60.0     9550   Pave   NaN      IR1         Lvl   \n",
       "4   5          60         84.0    14260   Pave   NaN      IR1         Lvl   \n",
       "\n",
       "  LotConfig LandSlope     ...      Paving_P Paving_Y Foundation_BrkTil  \\\n",
       "0    Inside       Gtl     ...             0        1                 0   \n",
       "1       FR2       Gtl     ...             0        1                 0   \n",
       "2    Inside       Gtl     ...             0        1                 0   \n",
       "3    Corner       Gtl     ...             0        1                 1   \n",
       "4       FR2       Gtl     ...             0        1                 0   \n",
       "\n",
       "  Foundation_CBlock  Foundation_PConc  Foundation_Slab  Foundation_Stone  \\\n",
       "0                 0                 1                0                 0   \n",
       "1                 1                 0                0                 0   \n",
       "2                 0                 1                0                 0   \n",
       "3                 0                 0                0                 0   \n",
       "4                 0                 1                0                 0   \n",
       "\n",
       "   Foundation_Wood CentralAir_N CentralAir_Y  \n",
       "0                0            0            1  \n",
       "1                0            0            1  \n",
       "2                0            0            1  \n",
       "3                0            0            1  \n",
       "4                0            0            1  \n",
       "\n",
       "[5 rows x 153 columns]"
      ]
     },
     "execution_count": 2850,
     "metadata": {},
     "output_type": "execute_result"
    }
   ],
   "source": [
    "train=pd.get_dummies(train, columns=['MSZoning','Utilities','Neighborhood','RoofStyle',\n",
    "                                   'RoofMatl','Exterior1st', 'BsmtFinType1','FireplaceQu','PavedDrive','Foundation',\n",
    "                                     'CentralAir'], \n",
    "               prefix=['Zone','Utilities','Neighborhood','RoofStyle','RoofMatl','Exterior','BsmtFinish','FireplaceQu',\n",
    "                       'Paving','Foundation','CentralAir'])\n",
    "train.head()"
   ]
  },
  {
   "cell_type": "markdown",
   "metadata": {},
   "source": [
    "A quick check to see if this worked properly:"
   ]
  },
  {
   "cell_type": "code",
   "execution_count": 2851,
   "metadata": {},
   "outputs": [
    {
     "data": {
      "text/plain": [
       "0    1327\n",
       "1     133\n",
       "Name: BsmtFinish_Rec, dtype: int64"
      ]
     },
     "execution_count": 2851,
     "metadata": {},
     "output_type": "execute_result"
    }
   ],
   "source": [
    "train.BsmtFinish_Rec.value_counts(dropna=False)"
   ]
  },
  {
   "cell_type": "markdown",
   "metadata": {},
   "source": [
    "Good!  Now I can take a look at making some of our other categorical variables quantitative."
   ]
  },
  {
   "cell_type": "code",
   "execution_count": 2852,
   "metadata": {},
   "outputs": [
    {
     "data": {
      "text/plain": [
       "1Story    726\n",
       "2Story    445\n",
       "1.5Fin    154\n",
       "SLvl       65\n",
       "SFoyer     37\n",
       "1.5Unf     14\n",
       "2.5Unf     11\n",
       "2.5Fin      8\n",
       "Name: HouseStyle, dtype: int64"
      ]
     },
     "execution_count": 2852,
     "metadata": {},
     "output_type": "execute_result"
    }
   ],
   "source": [
    "train.HouseStyle.value_counts(dropna=False)"
   ]
  },
  {
   "cell_type": "markdown",
   "metadata": {},
   "source": [
    "The most meaningful information I draw from this variable is the number of stories in each home.  Nowhere in our data is this included as its own variable so I will take the opportunity to convert HouseStyle into a quantitative variable that will serve this purpose.  Note that the value counts in the unfinished categories are small.  I will pool these together with their finished counterparts."
   ]
  },
  {
   "cell_type": "code",
   "execution_count": 2853,
   "metadata": {
    "collapsed": true
   },
   "outputs": [],
   "source": [
    "train['HouseStyle'] = train['HouseStyle'].map({'1Story': 1, '1.5Unf': 1.5, '1.5Fin':1.5, '2Story':2,'SFoyer':2,\n",
    "                                              '2.5Unf':2.5,'2.5Fin':2.5, 'SLvl':2.5})"
   ]
  },
  {
   "cell_type": "markdown",
   "metadata": {},
   "source": [
    "Here I classify Split-Foyer homes in the same quantitative category as two story homes because they are typically designed with a set of downward stairs and upwards stairs that lead out of the small foyer area into the two main levels of the home.  I likewise classify Split Level Homes (often called \"Tri-Level\" homes) in the same category as finished 2.5 story homes because they are often three levels with one level significantly smaller than the other two."
   ]
  },
  {
   "cell_type": "markdown",
   "metadata": {},
   "source": [
    "Let's see how this looks."
   ]
  },
  {
   "cell_type": "code",
   "execution_count": 2854,
   "metadata": {},
   "outputs": [
    {
     "data": {
      "text/plain": [
       "<matplotlib.text.Text at 0x13d149748>"
      ]
     },
     "execution_count": 2854,
     "metadata": {},
     "output_type": "execute_result"
    },
    {
     "data": {
      "image/png": "[encoded data removed]",
      "text/plain": [
       "<matplotlib.figure.Figure at 0x13d164c18>"
      ]
     },
     "metadata": {},
     "output_type": "display_data"
    }
   ],
   "source": [
    "train['HouseStyle'].value_counts().sort_index().plot(kind='bar',x=[1,1.5,2.0,2.5])\n",
    "plt.title('House Sample by Stories')\n",
    "#plt.xticks([1,1.5,2.0,2.5])\n",
    "plt.ylabel('Values')\n",
    "plt.xlabel('Number of Stories')"
   ]
  },
  {
   "cell_type": "markdown",
   "metadata": {},
   "source": [
    "Let's take a look at another variable I considered including."
   ]
  },
  {
   "cell_type": "markdown",
   "metadata": {},
   "source": [
    "MSSubClass: Identifies the type of dwelling involved in the sale.\t\n",
    "\n",
    "        20\t1-STORY 1946 & NEWER ALL STYLES\n",
    "        30\t1-STORY 1945 & OLDER\n",
    "        40\t1-STORY W/FINISHED ATTIC ALL AGES\n",
    "        45\t1-1/2 STORY - UNFINISHED ALL AGES\n",
    "        50\t1-1/2 STORY FINISHED ALL AGES\n",
    "        60\t2-STORY 1946 & NEWER\n",
    "        70\t2-STORY 1945 & OLDER\n",
    "        75\t2-1/2 STORY ALL AGES\n",
    "        80\tSPLIT OR MULTI-LEVEL\n",
    "        85\tSPLIT FOYER\n",
    "        90\tDUPLEX - ALL STYLES AND AGES\n",
    "       120\t1-STORY PUD (Planned Unit Development) - 1946 & NEWER\n",
    "       150\t1-1/2 STORY PUD - ALL AGES\n",
    "       160\t2-STORY PUD - 1946 & NEWER\n",
    "       180\tPUD - MULTILEVEL - INCL SPLIT LEV/FOYER\n",
    "       190\t2 FAMILY CONVERSION - ALL STYLES AND AGES"
   ]
  },
  {
   "cell_type": "markdown",
   "metadata": {},
   "source": [
    "Many of these categories communicate information about number of stories, which we have already reflected in our HouseStyle variable.  There is also some component of home age communicated in this data but only in broad distinctions (Pre and Post 1945) and this is not consistent across all categories.  For this reason, I will decline to include this variable in my models."
   ]
  },
  {
   "cell_type": "markdown",
   "metadata": {},
   "source": [
    "Let's take a look at BsmtQual--\n",
    "\n",
    "BsmtQual: Evaluates the height of the basement\n",
    "\n",
    "       Ex\tExcellent (100+ inches)\t\n",
    "       Gd\tGood (90-99 inches)\n",
    "       TA\tTypical (80-89 inches)\n",
    "       Fa\tFair (70-79 inches)\n",
    "       Po\tPoor (<70 inches\n",
    "       NA\tNo Basement"
   ]
  },
  {
   "cell_type": "code",
   "execution_count": 2855,
   "metadata": {},
   "outputs": [
    {
     "data": {
      "text/plain": [
       "TA     649\n",
       "Gd     618\n",
       "Ex     121\n",
       "NaN     37\n",
       "Fa      35\n",
       "Name: BsmtQual, dtype: int64"
      ]
     },
     "execution_count": 2855,
     "metadata": {},
     "output_type": "execute_result"
    }
   ],
   "source": [
    "train.BsmtQual.value_counts(dropna=False)"
   ]
  },
  {
   "cell_type": "markdown",
   "metadata": {},
   "source": [
    "I intially considered converting this variable into dummies but because there are no houses in the poor category (in which a house could in theory be anywhere from 1 inch to 69 inches) I think it is reasonable to make this variable quantitative by mapping each category into its minimum height.  I will still create a mapping for poor in case a home outside our train sample includes homes with poor basements, but I don't suspect it will be very common.  Less than 6 feet of basement height is pretty awful."
   ]
  },
  {
   "cell_type": "code",
   "execution_count": 2856,
   "metadata": {
    "collapsed": true
   },
   "outputs": [],
   "source": [
    "train['BsmtQual'] = train['BsmtQual'].map({'Po':60, 'Fa':70, 'TA':80, 'Gd':90,'Ex':100})"
   ]
  },
  {
   "cell_type": "code",
   "execution_count": 2857,
   "metadata": {
    "collapsed": true
   },
   "outputs": [],
   "source": [
    "train['BsmtQual']=train['BsmtQual'].fillna(0)"
   ]
  },
  {
   "cell_type": "code",
   "execution_count": 2858,
   "metadata": {},
   "outputs": [
    {
     "data": {
      "text/plain": [
       "80.0     649\n",
       "90.0     618\n",
       "100.0    121\n",
       "0.0       37\n",
       "70.0      35\n",
       "Name: BsmtQual, dtype: int64"
      ]
     },
     "execution_count": 2858,
     "metadata": {},
     "output_type": "execute_result"
    }
   ],
   "source": [
    "train['BsmtQual'].value_counts()"
   ]
  },
  {
   "cell_type": "markdown",
   "metadata": {},
   "source": [
    "Now that I've categorized my variables how I like, let's handle missing values."
   ]
  },
  {
   "cell_type": "code",
   "execution_count": 2859,
   "metadata": {
    "scrolled": true
   },
   "outputs": [
    {
     "data": {
      "text/plain": [
       "['LotFrontage',\n",
       " 'Alley',\n",
       " 'MasVnrType',\n",
       " 'MasVnrArea',\n",
       " 'BsmtCond',\n",
       " 'BsmtExposure',\n",
       " 'BsmtFinType2',\n",
       " 'Electrical',\n",
       " 'GarageType',\n",
       " 'GarageYrBlt',\n",
       " 'GarageFinish',\n",
       " 'GarageQual',\n",
       " 'GarageCond',\n",
       " 'PoolQC',\n",
       " 'Fence',\n",
       " 'MiscFeature']"
      ]
     },
     "execution_count": 2859,
     "metadata": {},
     "output_type": "execute_result"
    }
   ],
   "source": [
    "#train.isnull().any()\n",
    "train.columns[train.isnull().any()].tolist()"
   ]
  },
  {
   "cell_type": "markdown",
   "metadata": {},
   "source": [
    "After cross-checking this list with the list of variables I decided to drop from my regression, I determined that I need to handle missing values for LotFrontage, MasVnrArea, GarageYrBlt, GarageFinish, and BsmtQual.  Taking a glance at the value_counts I decide filling GarageFinish and BsmtQual with the mode and the rest with the mean is reasonable."
   ]
  },
  {
   "cell_type": "code",
   "execution_count": 2860,
   "metadata": {
    "collapsed": true
   },
   "outputs": [],
   "source": [
    "train['GarageFinish']=train['GarageFinish'].fillna(train['GarageFinish'].mode())\n",
    "train['LotFrontage']=train['LotFrontage'].fillna(train['LotFrontage'].mean())\n",
    "train['MasVnrArea']=train['MasVnrArea'].fillna(train['MasVnrArea'].mean())\n",
    "train['GarageYrBlt']=train['GarageYrBlt'].fillna(train['GarageYrBlt'].mean())"
   ]
  },
  {
   "cell_type": "code",
   "execution_count": 2861,
   "metadata": {},
   "outputs": [
    {
     "data": {
      "text/plain": [
       "Unf    605\n",
       "RFn    422\n",
       "Fin    352\n",
       "Name: GarageFinish, dtype: int64"
      ]
     },
     "execution_count": 2861,
     "metadata": {},
     "output_type": "execute_result"
    }
   ],
   "source": [
    "train['GarageFinish'].value_counts()"
   ]
  },
  {
   "cell_type": "code",
   "execution_count": 2862,
   "metadata": {
    "collapsed": true
   },
   "outputs": [],
   "source": [
    "train=pd.get_dummies(train, columns=['GarageFinish'])"
   ]
  },
  {
   "cell_type": "code",
   "execution_count": 2863,
   "metadata": {},
   "outputs": [
    {
     "data": {
      "text/plain": [
       "0    855\n",
       "1    605\n",
       "Name: GarageFinish_Unf, dtype: int64"
      ]
     },
     "execution_count": 2863,
     "metadata": {},
     "output_type": "execute_result"
    }
   ],
   "source": [
    "train['GarageFinish_Unf'].value_counts()"
   ]
  },
  {
   "cell_type": "markdown",
   "metadata": {},
   "source": [
    "Let's check that this cleared up our missing values."
   ]
  },
  {
   "cell_type": "code",
   "execution_count": 2864,
   "metadata": {},
   "outputs": [
    {
     "data": {
      "text/plain": [
       "0     False\n",
       "1     False\n",
       "2     False\n",
       "3     False\n",
       "4     False\n",
       "5     False\n",
       "6     False\n",
       "7     False\n",
       "8     False\n",
       "9     False\n",
       "10    False\n",
       "11    False\n",
       "12    False\n",
       "13    False\n",
       "14    False\n",
       "15    False\n",
       "16    False\n",
       "17    False\n",
       "18    False\n",
       "19    False\n",
       "Name: LotFrontage, dtype: bool"
      ]
     },
     "execution_count": 2864,
     "metadata": {},
     "output_type": "execute_result"
    }
   ],
   "source": [
    "train['LotFrontage'].isnull().head(20)"
   ]
  },
  {
   "cell_type": "code",
   "execution_count": 2865,
   "metadata": {},
   "outputs": [
    {
     "data": {
      "text/plain": [
       "['Alley',\n",
       " 'MasVnrType',\n",
       " 'BsmtCond',\n",
       " 'BsmtExposure',\n",
       " 'BsmtFinType2',\n",
       " 'Electrical',\n",
       " 'GarageType',\n",
       " 'GarageQual',\n",
       " 'GarageCond',\n",
       " 'PoolQC',\n",
       " 'Fence',\n",
       " 'MiscFeature']"
      ]
     },
     "execution_count": 2865,
     "metadata": {},
     "output_type": "execute_result"
    }
   ],
   "source": [
    "#train.isnull().any()\n",
    "train.columns[train.isnull().any()].tolist()"
   ]
  },
  {
   "cell_type": "markdown",
   "metadata": {},
   "source": [
    "I can also drop the ID column of our data frame since it communicates no useful information for analysis."
   ]
  },
  {
   "cell_type": "code",
   "execution_count": 2866,
   "metadata": {},
   "outputs": [],
   "source": [
    "train=train.drop(dropped,axis=1)\n",
    "train=train.drop('Id',axis=1)"
   ]
  },
  {
   "cell_type": "code",
   "execution_count": 2867,
   "metadata": {},
   "outputs": [
    {
     "data": {
      "text/plain": [
       "MSSubClass             int64\n",
       "LotFrontage          float64\n",
       "LotArea                int64\n",
       "HouseStyle           float64\n",
       "OverallQual            int64\n",
       "OverallCond            int64\n",
       "YearBuilt              int64\n",
       "YearRemodAdd           int64\n",
       "Exterior2nd           object\n",
       "MasVnrArea           float64\n",
       "BsmtQual             float64\n",
       "BsmtFinSF1             int64\n",
       "BsmtFinSF2             int64\n",
       "BsmtUnfSF              int64\n",
       "TotalBsmtSF            int64\n",
       "1stFlrSF               int64\n",
       "2ndFlrSF               int64\n",
       "LowQualFinSF           int64\n",
       "GrLivArea              int64\n",
       "BsmtFullBath           int64\n",
       "BsmtHalfBath           int64\n",
       "FullBath               int64\n",
       "HalfBath               int64\n",
       "BedroomAbvGr           int64\n",
       "KitchenAbvGr           int64\n",
       "TotRmsAbvGrd           int64\n",
       "Fireplaces             int64\n",
       "GarageYrBlt          float64\n",
       "GarageCars             int64\n",
       "GarageArea             int64\n",
       "                      ...   \n",
       "Exterior_Stone         uint8\n",
       "Exterior_Stucco        uint8\n",
       "Exterior_VinylSd       uint8\n",
       "Exterior_Wd Sdng       uint8\n",
       "Exterior_WdShing       uint8\n",
       "BsmtFinish_ALQ         uint8\n",
       "BsmtFinish_BLQ         uint8\n",
       "BsmtFinish_GLQ         uint8\n",
       "BsmtFinish_LwQ         uint8\n",
       "BsmtFinish_Rec         uint8\n",
       "BsmtFinish_Unf         uint8\n",
       "FireplaceQu_Ex         uint8\n",
       "FireplaceQu_Fa         uint8\n",
       "FireplaceQu_Gd         uint8\n",
       "FireplaceQu_Po         uint8\n",
       "FireplaceQu_TA         uint8\n",
       "Paving_N               uint8\n",
       "Paving_P               uint8\n",
       "Paving_Y               uint8\n",
       "Foundation_BrkTil      uint8\n",
       "Foundation_CBlock      uint8\n",
       "Foundation_PConc       uint8\n",
       "Foundation_Slab        uint8\n",
       "Foundation_Stone       uint8\n",
       "Foundation_Wood        uint8\n",
       "CentralAir_N           uint8\n",
       "CentralAir_Y           uint8\n",
       "GarageFinish_Fin       uint8\n",
       "GarageFinish_RFn       uint8\n",
       "GarageFinish_Unf       uint8\n",
       "Length: 126, dtype: object"
      ]
     },
     "execution_count": 2867,
     "metadata": {},
     "output_type": "execute_result"
    }
   ],
   "source": [
    "train.dtypes"
   ]
  },
  {
   "cell_type": "markdown",
   "metadata": {},
   "source": [
    "From checking the data types I see Exterior2nd is still an object.  It also is unlikely to be a huge determinant of home value, but just to cover our bases I'll check its value counts quickly."
   ]
  },
  {
   "cell_type": "code",
   "execution_count": 2868,
   "metadata": {},
   "outputs": [
    {
     "data": {
      "text/plain": [
       "VinylSd    504\n",
       "MetalSd    214\n",
       "HdBoard    207\n",
       "Wd Sdng    197\n",
       "Plywood    142\n",
       "CmentBd     60\n",
       "Wd Shng     38\n",
       "Stucco      26\n",
       "BrkFace     25\n",
       "AsbShng     20\n",
       "ImStucc     10\n",
       "Brk Cmn      7\n",
       "Stone        5\n",
       "AsphShn      3\n",
       "CBlock       1\n",
       "Other        1\n",
       "Name: Exterior2nd, dtype: int64"
      ]
     },
     "execution_count": 2868,
     "metadata": {},
     "output_type": "execute_result"
    }
   ],
   "source": [
    "train['Exterior2nd'].value_counts(dropna=False)"
   ]
  },
  {
   "cell_type": "markdown",
   "metadata": {},
   "source": [
    "A large proportion of the observations fall into the VinylSd category so I feel pretty safe dropping this variable from our data frame."
   ]
  },
  {
   "cell_type": "code",
   "execution_count": 2869,
   "metadata": {},
   "outputs": [],
   "source": [
    "train=train.drop(['Exterior2nd'],axis=1)"
   ]
  },
  {
   "cell_type": "markdown",
   "metadata": {},
   "source": [
    "We may also be interested in the presence of outliers in our data.  Let's take a look at the sale prices in our data and determine whether any observations should be dropped before our analysis."
   ]
  },
  {
   "cell_type": "code",
   "execution_count": 2870,
   "metadata": {},
   "outputs": [
    {
     "data": {
      "text/plain": [
       "<matplotlib.text.Text at 0x13fbae630>"
      ]
     },
     "execution_count": 2870,
     "metadata": {},
     "output_type": "execute_result"
    },
    {
     "data": {
      "image/png": "[encoded data removed]",
      "text/plain": [
       "<matplotlib.figure.Figure at 0x13e3c85c0>"
      ]
     },
     "metadata": {},
     "output_type": "display_data"
    }
   ],
   "source": [
    "sns.distplot(train.SalePrice, kde=False) #kde is kernel density estimate\n",
    "plt.ylabel('Number of Houses')\n",
    "plt.title('Sale Price Distribution')"
   ]
  },
  {
   "cell_type": "markdown",
   "metadata": {},
   "source": [
    "It appears that most homes in our set close for about 100 to 250 thousand dollars.  We can use scipy tools to remove observations lying further than 3 standard deviations from the mean."
   ]
  },
  {
   "cell_type": "code",
   "execution_count": 2871,
   "metadata": {},
   "outputs": [],
   "source": [
    "train=train[(np.abs(stats.zscore(train.SalePrice))<3)]"
   ]
  },
  {
   "cell_type": "markdown",
   "metadata": {},
   "source": [
    "We can revisualize to see what has changed--"
   ]
  },
  {
   "cell_type": "code",
   "execution_count": 2872,
   "metadata": {},
   "outputs": [
    {
     "data": {
      "text/plain": [
       "<matplotlib.text.Text at 0x1408d7b00>"
      ]
     },
     "execution_count": 2872,
     "metadata": {},
     "output_type": "execute_result"
    },
    {
     "data": {
      "image/png": "[encoded data removed]",
      "text/plain": [
       "<matplotlib.figure.Figure at 0x13d955b38>"
      ]
     },
     "metadata": {},
     "output_type": "display_data"
    }
   ],
   "source": [
    "sns.distplot(train.SalePrice, kde=False) #kde is kernel density estimate\n",
    "plt.ylabel('Number of Houses')\n",
    "plt.title('Sale Price Distribution, Adjusted for Outliers')"
   ]
  },
  {
   "cell_type": "markdown",
   "metadata": {},
   "source": [
    "And we observe that homes above $430,000 (roughly) have been dropped.  We are now ready to scale the data."
   ]
  },
  {
   "cell_type": "markdown",
   "metadata": {},
   "source": [
    "### **Scaling**"
   ]
  },
  {
   "cell_type": "markdown",
   "metadata": {},
   "source": [
    "We don't want to scale our sale price so I will split it off of our train dataframe before scaling."
   ]
  },
  {
   "cell_type": "code",
   "execution_count": 2873,
   "metadata": {
    "collapsed": true
   },
   "outputs": [],
   "source": [
    "SalePrice=train['SalePrice']\n",
    "train=train.drop('SalePrice',axis=1)"
   ]
  },
  {
   "cell_type": "code",
   "execution_count": 2874,
   "metadata": {},
   "outputs": [],
   "source": [
    "scaler = StandardScaler()\n",
    "scaler.fit(train) #learns mean and std dev for each variable\n",
    "scaled_train = scaler.transform(train) #Subtracts mean and divides by std dev."
   ]
  },
  {
   "cell_type": "code",
   "execution_count": 2875,
   "metadata": {
    "collapsed": true
   },
   "outputs": [],
   "source": [
    "train = pd.DataFrame(data=scaled_train, columns=train.columns)"
   ]
  },
  {
   "cell_type": "code",
   "execution_count": 2876,
   "metadata": {},
   "outputs": [
    {
     "data": {
      "text/html": [
       "<div>\n",
       "<style>\n",
       "    .dataframe thead tr:only-child th {\n",
       "        text-align: right;\n",
       "    }\n",
       "\n",
       "    .dataframe thead th {\n",
       "        text-align: left;\n",
       "    }\n",
       "\n",
       "    .dataframe tbody tr th {\n",
       "        vertical-align: top;\n",
       "    }\n",
       "</style>\n",
       "<table border=\"1\" class=\"dataframe\">\n",
       "  <thead>\n",
       "    <tr style=\"text-align: right;\">\n",
       "      <th></th>\n",
       "      <th>MSSubClass</th>\n",
       "      <th>LotFrontage</th>\n",
       "      <th>LotArea</th>\n",
       "      <th>HouseStyle</th>\n",
       "      <th>OverallQual</th>\n",
       "      <th>OverallCond</th>\n",
       "      <th>YearBuilt</th>\n",
       "      <th>YearRemodAdd</th>\n",
       "      <th>MasVnrArea</th>\n",
       "      <th>BsmtQual</th>\n",
       "      <th>...</th>\n",
       "      <th>Foundation_CBlock</th>\n",
       "      <th>Foundation_PConc</th>\n",
       "      <th>Foundation_Slab</th>\n",
       "      <th>Foundation_Stone</th>\n",
       "      <th>Foundation_Wood</th>\n",
       "      <th>CentralAir_N</th>\n",
       "      <th>CentralAir_Y</th>\n",
       "      <th>GarageFinish_Fin</th>\n",
       "      <th>GarageFinish_RFn</th>\n",
       "      <th>GarageFinish_Unf</th>\n",
       "    </tr>\n",
       "  </thead>\n",
       "  <tbody>\n",
       "    <tr>\n",
       "      <th>0</th>\n",
       "      <td>0.069107</td>\n",
       "      <td>-0.218390</td>\n",
       "      <td>-0.196275</td>\n",
       "      <td>1.030758</td>\n",
       "      <td>0.711162</td>\n",
       "      <td>-0.520722</td>\n",
       "      <td>1.068894</td>\n",
       "      <td>0.892656</td>\n",
       "      <td>0.582176</td>\n",
       "      <td>0.438259</td>\n",
       "      <td>...</td>\n",
       "      <td>-0.888007</td>\n",
       "      <td>1.138914</td>\n",
       "      <td>-0.130281</td>\n",
       "      <td>-0.06473</td>\n",
       "      <td>-0.045723</td>\n",
       "      <td>-0.265965</td>\n",
       "      <td>0.265965</td>\n",
       "      <td>-0.55325</td>\n",
       "      <td>1.567396</td>\n",
       "      <td>-0.851012</td>\n",
       "    </tr>\n",
       "    <tr>\n",
       "      <th>1</th>\n",
       "      <td>-0.871730</td>\n",
       "      <td>0.468814</td>\n",
       "      <td>-0.080602</td>\n",
       "      <td>-0.918263</td>\n",
       "      <td>-0.038582</td>\n",
       "      <td>2.169571</td>\n",
       "      <td>0.171364</td>\n",
       "      <td>-0.415154</td>\n",
       "      <td>-0.580458</td>\n",
       "      <td>0.438259</td>\n",
       "      <td>...</td>\n",
       "      <td>1.126117</td>\n",
       "      <td>-0.878030</td>\n",
       "      <td>-0.130281</td>\n",
       "      <td>-0.06473</td>\n",
       "      <td>-0.045723</td>\n",
       "      <td>-0.265965</td>\n",
       "      <td>0.265965</td>\n",
       "      <td>-0.55325</td>\n",
       "      <td>1.567396</td>\n",
       "      <td>-0.851012</td>\n",
       "    </tr>\n",
       "    <tr>\n",
       "      <th>2</th>\n",
       "      <td>0.069107</td>\n",
       "      <td>-0.080949</td>\n",
       "      <td>0.085362</td>\n",
       "      <td>1.030758</td>\n",
       "      <td>0.711162</td>\n",
       "      <td>-0.520722</td>\n",
       "      <td>1.002410</td>\n",
       "      <td>0.844219</td>\n",
       "      <td>0.380494</td>\n",
       "      <td>0.438259</td>\n",
       "      <td>...</td>\n",
       "      <td>-0.888007</td>\n",
       "      <td>1.138914</td>\n",
       "      <td>-0.130281</td>\n",
       "      <td>-0.06473</td>\n",
       "      <td>-0.045723</td>\n",
       "      <td>-0.265965</td>\n",
       "      <td>0.265965</td>\n",
       "      <td>-0.55325</td>\n",
       "      <td>1.567396</td>\n",
       "      <td>-0.851012</td>\n",
       "    </tr>\n",
       "    <tr>\n",
       "      <th>3</th>\n",
       "      <td>0.304316</td>\n",
       "      <td>-0.447458</td>\n",
       "      <td>-0.085632</td>\n",
       "      <td>1.030758</td>\n",
       "      <td>0.711162</td>\n",
       "      <td>-0.520722</td>\n",
       "      <td>-1.856388</td>\n",
       "      <td>-0.705778</td>\n",
       "      <td>-0.580458</td>\n",
       "      <td>-0.225826</td>\n",
       "      <td>...</td>\n",
       "      <td>-0.888007</td>\n",
       "      <td>-0.878030</td>\n",
       "      <td>-0.130281</td>\n",
       "      <td>-0.06473</td>\n",
       "      <td>-0.045723</td>\n",
       "      <td>-0.265965</td>\n",
       "      <td>0.265965</td>\n",
       "      <td>-0.55325</td>\n",
       "      <td>-0.638001</td>\n",
       "      <td>1.175072</td>\n",
       "    </tr>\n",
       "    <tr>\n",
       "      <th>4</th>\n",
       "      <td>0.069107</td>\n",
       "      <td>0.652068</td>\n",
       "      <td>0.388122</td>\n",
       "      <td>1.030758</td>\n",
       "      <td>1.460906</td>\n",
       "      <td>-0.520722</td>\n",
       "      <td>0.969168</td>\n",
       "      <td>0.747344</td>\n",
       "      <td>1.495674</td>\n",
       "      <td>0.438259</td>\n",
       "      <td>...</td>\n",
       "      <td>-0.888007</td>\n",
       "      <td>1.138914</td>\n",
       "      <td>-0.130281</td>\n",
       "      <td>-0.06473</td>\n",
       "      <td>-0.045723</td>\n",
       "      <td>-0.265965</td>\n",
       "      <td>0.265965</td>\n",
       "      <td>-0.55325</td>\n",
       "      <td>1.567396</td>\n",
       "      <td>-0.851012</td>\n",
       "    </tr>\n",
       "  </tbody>\n",
       "</table>\n",
       "<p>5 rows × 124 columns</p>\n",
       "</div>"
      ],
      "text/plain": [
       "   MSSubClass  LotFrontage   LotArea  HouseStyle  OverallQual  OverallCond  \\\n",
       "0    0.069107    -0.218390 -0.196275    1.030758     0.711162    -0.520722   \n",
       "1   -0.871730     0.468814 -0.080602   -0.918263    -0.038582     2.169571   \n",
       "2    0.069107    -0.080949  0.085362    1.030758     0.711162    -0.520722   \n",
       "3    0.304316    -0.447458 -0.085632    1.030758     0.711162    -0.520722   \n",
       "4    0.069107     0.652068  0.388122    1.030758     1.460906    -0.520722   \n",
       "\n",
       "   YearBuilt  YearRemodAdd  MasVnrArea  BsmtQual        ...         \\\n",
       "0   1.068894      0.892656    0.582176  0.438259        ...          \n",
       "1   0.171364     -0.415154   -0.580458  0.438259        ...          \n",
       "2   1.002410      0.844219    0.380494  0.438259        ...          \n",
       "3  -1.856388     -0.705778   -0.580458 -0.225826        ...          \n",
       "4   0.969168      0.747344    1.495674  0.438259        ...          \n",
       "\n",
       "   Foundation_CBlock  Foundation_PConc  Foundation_Slab  Foundation_Stone  \\\n",
       "0          -0.888007          1.138914        -0.130281          -0.06473   \n",
       "1           1.126117         -0.878030        -0.130281          -0.06473   \n",
       "2          -0.888007          1.138914        -0.130281          -0.06473   \n",
       "3          -0.888007         -0.878030        -0.130281          -0.06473   \n",
       "4          -0.888007          1.138914        -0.130281          -0.06473   \n",
       "\n",
       "   Foundation_Wood  CentralAir_N  CentralAir_Y  GarageFinish_Fin  \\\n",
       "0        -0.045723     -0.265965      0.265965          -0.55325   \n",
       "1        -0.045723     -0.265965      0.265965          -0.55325   \n",
       "2        -0.045723     -0.265965      0.265965          -0.55325   \n",
       "3        -0.045723     -0.265965      0.265965          -0.55325   \n",
       "4        -0.045723     -0.265965      0.265965          -0.55325   \n",
       "\n",
       "   GarageFinish_RFn  GarageFinish_Unf  \n",
       "0          1.567396         -0.851012  \n",
       "1          1.567396         -0.851012  \n",
       "2          1.567396         -0.851012  \n",
       "3         -0.638001          1.175072  \n",
       "4          1.567396         -0.851012  \n",
       "\n",
       "[5 rows x 124 columns]"
      ]
     },
     "execution_count": 2876,
     "metadata": {},
     "output_type": "execute_result"
    }
   ],
   "source": [
    "train.head()"
   ]
  },
  {
   "cell_type": "markdown",
   "metadata": {},
   "source": [
    "In order to test our predictions we can perform a test-train split on our prepped dataframe.  To work with the outputs of this split in our regressions we will also need to reset our indices."
   ]
  },
  {
   "cell_type": "code",
   "execution_count": 2877,
   "metadata": {},
   "outputs": [],
   "source": [
    "X_train, X_test, y_train, y_test = train_test_split(train, SalePrice, test_size=.20, random_state=42)"
   ]
  },
  {
   "cell_type": "code",
   "execution_count": 2878,
   "metadata": {
    "collapsed": true
   },
   "outputs": [],
   "source": [
    "y_train=y_train.reset_index(drop=True)\n",
    "X_train=X_train.reset_index(drop=True)"
   ]
  },
  {
   "cell_type": "code",
   "execution_count": 2879,
   "metadata": {},
   "outputs": [
    {
     "data": {
      "text/plain": [
       "0    129500\n",
       "1    243000\n",
       "2     90000\n",
       "3    225000\n",
       "4    180000\n",
       "Name: SalePrice, dtype: int64"
      ]
     },
     "execution_count": 2879,
     "metadata": {},
     "output_type": "execute_result"
    }
   ],
   "source": [
    "y_train.head()"
   ]
  },
  {
   "cell_type": "code",
   "execution_count": 2880,
   "metadata": {},
   "outputs": [
    {
     "data": {
      "text/html": [
       "<div>\n",
       "<style>\n",
       "    .dataframe thead tr:only-child th {\n",
       "        text-align: right;\n",
       "    }\n",
       "\n",
       "    .dataframe thead th {\n",
       "        text-align: left;\n",
       "    }\n",
       "\n",
       "    .dataframe tbody tr th {\n",
       "        vertical-align: top;\n",
       "    }\n",
       "</style>\n",
       "<table border=\"1\" class=\"dataframe\">\n",
       "  <thead>\n",
       "    <tr style=\"text-align: right;\">\n",
       "      <th></th>\n",
       "      <th>MSSubClass</th>\n",
       "      <th>LotFrontage</th>\n",
       "      <th>LotArea</th>\n",
       "      <th>HouseStyle</th>\n",
       "      <th>OverallQual</th>\n",
       "      <th>OverallCond</th>\n",
       "      <th>YearBuilt</th>\n",
       "      <th>YearRemodAdd</th>\n",
       "      <th>MasVnrArea</th>\n",
       "      <th>BsmtQual</th>\n",
       "      <th>...</th>\n",
       "      <th>Foundation_CBlock</th>\n",
       "      <th>Foundation_PConc</th>\n",
       "      <th>Foundation_Slab</th>\n",
       "      <th>Foundation_Stone</th>\n",
       "      <th>Foundation_Wood</th>\n",
       "      <th>CentralAir_N</th>\n",
       "      <th>CentralAir_Y</th>\n",
       "      <th>GarageFinish_Fin</th>\n",
       "      <th>GarageFinish_RFn</th>\n",
       "      <th>GarageFinish_Unf</th>\n",
       "    </tr>\n",
       "  </thead>\n",
       "  <tbody>\n",
       "    <tr>\n",
       "      <th>0</th>\n",
       "      <td>0.657130</td>\n",
       "      <td>-0.722339</td>\n",
       "      <td>-0.317580</td>\n",
       "      <td>1.030758</td>\n",
       "      <td>-0.788326</td>\n",
       "      <td>1.272807</td>\n",
       "      <td>-0.028087</td>\n",
       "      <td>-0.705778</td>\n",
       "      <td>-0.580458</td>\n",
       "      <td>0.438259</td>\n",
       "      <td>...</td>\n",
       "      <td>1.126117</td>\n",
       "      <td>-0.87803</td>\n",
       "      <td>-0.130281</td>\n",
       "      <td>-0.06473</td>\n",
       "      <td>-0.045723</td>\n",
       "      <td>-0.265965</td>\n",
       "      <td>0.265965</td>\n",
       "      <td>-0.55325</td>\n",
       "      <td>-0.638001</td>\n",
       "      <td>1.175072</td>\n",
       "    </tr>\n",
       "    <tr>\n",
       "      <th>1</th>\n",
       "      <td>-0.871730</td>\n",
       "      <td>0.652068</td>\n",
       "      <td>0.222660</td>\n",
       "      <td>-0.918263</td>\n",
       "      <td>-0.038582</td>\n",
       "      <td>1.272807</td>\n",
       "      <td>-0.692924</td>\n",
       "      <td>0.795782</td>\n",
       "      <td>-0.580458</td>\n",
       "      <td>-0.225826</td>\n",
       "      <td>...</td>\n",
       "      <td>1.126117</td>\n",
       "      <td>-0.87803</td>\n",
       "      <td>-0.130281</td>\n",
       "      <td>-0.06473</td>\n",
       "      <td>-0.045723</td>\n",
       "      <td>-0.265965</td>\n",
       "      <td>0.265965</td>\n",
       "      <td>-0.55325</td>\n",
       "      <td>-0.638001</td>\n",
       "      <td>1.175072</td>\n",
       "    </tr>\n",
       "    <tr>\n",
       "      <th>2</th>\n",
       "      <td>0.774735</td>\n",
       "      <td>-0.447458</td>\n",
       "      <td>-0.322005</td>\n",
       "      <td>-0.918263</td>\n",
       "      <td>-1.538070</td>\n",
       "      <td>-0.520722</td>\n",
       "      <td>-0.726165</td>\n",
       "      <td>-1.674527</td>\n",
       "      <td>-0.580458</td>\n",
       "      <td>-5.538499</td>\n",
       "      <td>...</td>\n",
       "      <td>-0.888007</td>\n",
       "      <td>-0.87803</td>\n",
       "      <td>7.675719</td>\n",
       "      <td>-0.06473</td>\n",
       "      <td>-0.045723</td>\n",
       "      <td>3.759899</td>\n",
       "      <td>-3.759899</td>\n",
       "      <td>-0.55325</td>\n",
       "      <td>-0.638001</td>\n",
       "      <td>1.175072</td>\n",
       "    </tr>\n",
       "    <tr>\n",
       "      <th>3</th>\n",
       "      <td>0.069107</td>\n",
       "      <td>2.118102</td>\n",
       "      <td>0.309062</td>\n",
       "      <td>1.030758</td>\n",
       "      <td>0.711162</td>\n",
       "      <td>-0.520722</td>\n",
       "      <td>0.636750</td>\n",
       "      <td>0.311407</td>\n",
       "      <td>0.878766</td>\n",
       "      <td>0.438259</td>\n",
       "      <td>...</td>\n",
       "      <td>1.126117</td>\n",
       "      <td>-0.87803</td>\n",
       "      <td>-0.130281</td>\n",
       "      <td>-0.06473</td>\n",
       "      <td>-0.045723</td>\n",
       "      <td>-0.265965</td>\n",
       "      <td>0.265965</td>\n",
       "      <td>-0.55325</td>\n",
       "      <td>1.567396</td>\n",
       "      <td>-0.851012</td>\n",
       "    </tr>\n",
       "    <tr>\n",
       "      <th>4</th>\n",
       "      <td>-0.871730</td>\n",
       "      <td>0.012967</td>\n",
       "      <td>0.080333</td>\n",
       "      <td>-0.918263</td>\n",
       "      <td>-0.038582</td>\n",
       "      <td>-0.520722</td>\n",
       "      <td>0.470541</td>\n",
       "      <td>0.020783</td>\n",
       "      <td>-0.076255</td>\n",
       "      <td>0.438259</td>\n",
       "      <td>...</td>\n",
       "      <td>1.126117</td>\n",
       "      <td>-0.87803</td>\n",
       "      <td>-0.130281</td>\n",
       "      <td>-0.06473</td>\n",
       "      <td>-0.045723</td>\n",
       "      <td>-0.265965</td>\n",
       "      <td>0.265965</td>\n",
       "      <td>-0.55325</td>\n",
       "      <td>-0.638001</td>\n",
       "      <td>1.175072</td>\n",
       "    </tr>\n",
       "  </tbody>\n",
       "</table>\n",
       "<p>5 rows × 124 columns</p>\n",
       "</div>"
      ],
      "text/plain": [
       "   MSSubClass  LotFrontage   LotArea  HouseStyle  OverallQual  OverallCond  \\\n",
       "0    0.657130    -0.722339 -0.317580    1.030758    -0.788326     1.272807   \n",
       "1   -0.871730     0.652068  0.222660   -0.918263    -0.038582     1.272807   \n",
       "2    0.774735    -0.447458 -0.322005   -0.918263    -1.538070    -0.520722   \n",
       "3    0.069107     2.118102  0.309062    1.030758     0.711162    -0.520722   \n",
       "4   -0.871730     0.012967  0.080333   -0.918263    -0.038582    -0.520722   \n",
       "\n",
       "   YearBuilt  YearRemodAdd  MasVnrArea  BsmtQual        ...         \\\n",
       "0  -0.028087     -0.705778   -0.580458  0.438259        ...          \n",
       "1  -0.692924      0.795782   -0.580458 -0.225826        ...          \n",
       "2  -0.726165     -1.674527   -0.580458 -5.538499        ...          \n",
       "3   0.636750      0.311407    0.878766  0.438259        ...          \n",
       "4   0.470541      0.020783   -0.076255  0.438259        ...          \n",
       "\n",
       "   Foundation_CBlock  Foundation_PConc  Foundation_Slab  Foundation_Stone  \\\n",
       "0           1.126117          -0.87803        -0.130281          -0.06473   \n",
       "1           1.126117          -0.87803        -0.130281          -0.06473   \n",
       "2          -0.888007          -0.87803         7.675719          -0.06473   \n",
       "3           1.126117          -0.87803        -0.130281          -0.06473   \n",
       "4           1.126117          -0.87803        -0.130281          -0.06473   \n",
       "\n",
       "   Foundation_Wood  CentralAir_N  CentralAir_Y  GarageFinish_Fin  \\\n",
       "0        -0.045723     -0.265965      0.265965          -0.55325   \n",
       "1        -0.045723     -0.265965      0.265965          -0.55325   \n",
       "2        -0.045723      3.759899     -3.759899          -0.55325   \n",
       "3        -0.045723     -0.265965      0.265965          -0.55325   \n",
       "4        -0.045723     -0.265965      0.265965          -0.55325   \n",
       "\n",
       "   GarageFinish_RFn  GarageFinish_Unf  \n",
       "0         -0.638001          1.175072  \n",
       "1         -0.638001          1.175072  \n",
       "2         -0.638001          1.175072  \n",
       "3          1.567396         -0.851012  \n",
       "4         -0.638001          1.175072  \n",
       "\n",
       "[5 rows x 124 columns]"
      ]
     },
     "execution_count": 2880,
     "metadata": {},
     "output_type": "execute_result"
    }
   ],
   "source": [
    "X_train.head()"
   ]
  },
  {
   "cell_type": "markdown",
   "metadata": {},
   "source": [
    "Beautiful.  We're now ready to begin modeling!"
   ]
  },
  {
   "cell_type": "markdown",
   "metadata": {},
   "source": [
    "### **Linear Regression**"
   ]
  },
  {
   "cell_type": "markdown",
   "metadata": {},
   "source": [
    "Now that I've cleaned and grouped a reasonable (and large) set of variables we have to work with let's try and throw all of them into a linear model.  I will first define my regressors.  Because Stats Models doesn't automatically create a regression constant I will manually create one for each regression."
   ]
  },
  {
   "cell_type": "code",
   "execution_count": 2881,
   "metadata": {},
   "outputs": [],
   "source": [
    "controls=X_train[['LotFrontage', 'LotArea', 'OverallQual', 'OverallCond', 'MasVnrArea', 'Foundation_BrkTil',\n",
    "                'Foundation_CBlock','Foundation_PConc','Foundation_Slab','Foundation_Stone','Foundation_Wood',\n",
    "                'TotalBsmtSF', 'Fireplaces','CentralAir_Y', 'FullBath', 'HalfBath','WoodDeckSF','OpenPorchSF',\n",
    "                'EnclosedPorch', 'ScreenPorch','PoolArea', 'MiscVal','MoSold', 'YrSold', 'YearBuilt','YearRemodAdd',\n",
    "                'Zone_C (all)','Zone_FV','Zone_RH','Zone_RL','Zone_RM','Utilities_AllPub','Utilities_NoSeWa',\n",
    "                'Neighborhood_Blmngtn','Neighborhood_Blueste','Neighborhood_BrDale','Neighborhood_BrkSide',\n",
    "                'Neighborhood_ClearCr','Neighborhood_CollgCr','Neighborhood_Crawfor','Neighborhood_Edwards',\n",
    "                'Neighborhood_Gilbert','Neighborhood_IDOTRR','Neighborhood_MeadowV','Neighborhood_Mitchel','Neighborhood_NAmes',\n",
    " 'Neighborhood_NPkVill','Neighborhood_NWAmes','Neighborhood_NoRidge','Neighborhood_NridgHt','Neighborhood_OldTown',\n",
    " 'Neighborhood_SWISU','Neighborhood_Sawyer','Neighborhood_SawyerW','Neighborhood_Somerst','Neighborhood_StoneBr',\n",
    " 'Neighborhood_Timber','Neighborhood_Veenker','RoofStyle_Flat','RoofStyle_Gable','RoofStyle_Gambrel',\n",
    " 'RoofStyle_Hip','RoofStyle_Mansard','RoofStyle_Shed','RoofMatl_ClyTile','RoofMatl_CompShg','RoofMatl_Metal',\n",
    " 'RoofMatl_Roll','RoofMatl_Tar&Grv','RoofMatl_WdShake','RoofMatl_WdShngl','Exterior_AsbShng','Exterior_AsphShn',\n",
    " 'Exterior_BrkComm', 'BsmtQual','Exterior_BrkFace','Exterior_CBlock','Exterior_CemntBd','Exterior_HdBoard',\n",
    " 'Exterior_ImStucc','Exterior_MetalSd','Exterior_Plywood','Exterior_Stone','Exterior_Stucco','Exterior_VinylSd',\n",
    " 'Exterior_Wd Sdng','Exterior_WdShing','BsmtFinish_ALQ','BsmtFinish_BLQ','BsmtFinish_GLQ','BsmtFinish_LwQ',\n",
    " 'BsmtFinish_Rec','BsmtFinish_Unf','FireplaceQu_Ex','FireplaceQu_Fa','FireplaceQu_Gd','FireplaceQu_Po',\n",
    " 'FireplaceQu_TA','Paving_N','Paving_P','Paving_Y','BsmtQual']]"
   ]
  },
  {
   "cell_type": "code",
   "execution_count": 2882,
   "metadata": {
    "collapsed": true
   },
   "outputs": [],
   "source": [
    "controls=sm.add_constant(controls)"
   ]
  },
  {
   "cell_type": "code",
   "execution_count": 2883,
   "metadata": {},
   "outputs": [
    {
     "data": {
      "text/html": [
       "<table class=\"simpletable\">\n",
       "<caption>OLS Regression Results</caption>\n",
       "<tr>\n",
       "  <th>Dep. Variable:</th>        <td>SalePrice</td>    <th>  R-squared:         </th> <td>   0.870</td> \n",
       "</tr>\n",
       "<tr>\n",
       "  <th>Model:</th>                   <td>OLS</td>       <th>  Adj. R-squared:    </th> <td>   0.859</td> \n",
       "</tr>\n",
       "<tr>\n",
       "  <th>Method:</th>             <td>Least Squares</td>  <th>  F-statistic:       </th> <td>   75.26</td> \n",
       "</tr>\n",
       "<tr>\n",
       "  <th>Date:</th>             <td>Thu, 22 Feb 2018</td> <th>  Prob (F-statistic):</th>  <td>  0.00</td>  \n",
       "</tr>\n",
       "<tr>\n",
       "  <th>Time:</th>                 <td>23:41:58</td>     <th>  Log-Likelihood:    </th> <td> -13251.</td> \n",
       "</tr>\n",
       "<tr>\n",
       "  <th>No. Observations:</th>      <td>  1150</td>      <th>  AIC:               </th> <td>2.669e+04</td>\n",
       "</tr>\n",
       "<tr>\n",
       "  <th>Df Residuals:</th>          <td>  1055</td>      <th>  BIC:               </th> <td>2.717e+04</td>\n",
       "</tr>\n",
       "<tr>\n",
       "  <th>Df Model:</th>              <td>    94</td>      <th>                     </th>     <td> </td>    \n",
       "</tr>\n",
       "<tr>\n",
       "  <th>Covariance Type:</th>      <td>nonrobust</td>    <th>                     </th>     <td> </td>    \n",
       "</tr>\n",
       "</table>\n",
       "<table class=\"simpletable\">\n",
       "<tr>\n",
       "            <td></td>              <th>coef</th>     <th>std err</th>      <th>t</th>      <th>P>|t|</th>  <th>[0.025</th>    <th>0.975]</th>  \n",
       "</tr>\n",
       "<tr>\n",
       "  <th>const</th>                <td> 1.754e+05</td> <td>  757.297</td> <td>  231.584</td> <td> 0.000</td> <td> 1.74e+05</td> <td> 1.77e+05</td>\n",
       "</tr>\n",
       "<tr>\n",
       "  <th>LotFrontage</th>          <td> 5556.4736</td> <td> 1025.218</td> <td>    5.420</td> <td> 0.000</td> <td> 3544.775</td> <td> 7568.172</td>\n",
       "</tr>\n",
       "<tr>\n",
       "  <th>LotArea</th>              <td> 5211.5440</td> <td> 1066.219</td> <td>    4.888</td> <td> 0.000</td> <td> 3119.393</td> <td> 7303.695</td>\n",
       "</tr>\n",
       "<tr>\n",
       "  <th>OverallQual</th>          <td> 1.814e+04</td> <td> 1459.598</td> <td>   12.425</td> <td> 0.000</td> <td> 1.53e+04</td> <td>  2.1e+04</td>\n",
       "</tr>\n",
       "<tr>\n",
       "  <th>OverallCond</th>          <td> 6546.5818</td> <td> 1076.749</td> <td>    6.080</td> <td> 0.000</td> <td> 4433.769</td> <td> 8659.394</td>\n",
       "</tr>\n",
       "<tr>\n",
       "  <th>MasVnrArea</th>           <td> 3631.6227</td> <td>  960.137</td> <td>    3.782</td> <td> 0.000</td> <td> 1747.627</td> <td> 5515.619</td>\n",
       "</tr>\n",
       "<tr>\n",
       "  <th>Foundation_BrkTil</th>    <td>-1499.9551</td> <td>  933.620</td> <td>   -1.607</td> <td> 0.108</td> <td>-3331.918</td> <td>  332.007</td>\n",
       "</tr>\n",
       "<tr>\n",
       "  <th>Foundation_CBlock</th>    <td>  -61.2616</td> <td>  737.741</td> <td>   -0.083</td> <td> 0.934</td> <td>-1508.868</td> <td> 1386.345</td>\n",
       "</tr>\n",
       "<tr>\n",
       "  <th>Foundation_PConc</th>     <td>  544.6508</td> <td>  825.184</td> <td>    0.660</td> <td> 0.509</td> <td>-1074.538</td> <td> 2163.840</td>\n",
       "</tr>\n",
       "<tr>\n",
       "  <th>Foundation_Slab</th>      <td> 1150.0686</td> <td> 1304.919</td> <td>    0.881</td> <td> 0.378</td> <td>-1410.463</td> <td> 3710.600</td>\n",
       "</tr>\n",
       "<tr>\n",
       "  <th>Foundation_Stone</th>     <td> 1199.4908</td> <td>  722.567</td> <td>    1.660</td> <td> 0.097</td> <td> -218.341</td> <td> 2617.322</td>\n",
       "</tr>\n",
       "<tr>\n",
       "  <th>Foundation_Wood</th>      <td> -276.6139</td> <td>  693.956</td> <td>   -0.399</td> <td> 0.690</td> <td>-1638.306</td> <td> 1085.078</td>\n",
       "</tr>\n",
       "<tr>\n",
       "  <th>TotalBsmtSF</th>          <td>  1.48e+04</td> <td> 1353.976</td> <td>   10.928</td> <td> 0.000</td> <td> 1.21e+04</td> <td> 1.75e+04</td>\n",
       "</tr>\n",
       "<tr>\n",
       "  <th>Fireplaces</th>           <td> 5984.5916</td> <td> 2058.454</td> <td>    2.907</td> <td> 0.004</td> <td> 1945.463</td> <td>    1e+04</td>\n",
       "</tr>\n",
       "<tr>\n",
       "  <th>CentralAir_Y</th>         <td> 1032.4098</td> <td>  977.097</td> <td>    1.057</td> <td> 0.291</td> <td> -884.865</td> <td> 2949.685</td>\n",
       "</tr>\n",
       "<tr>\n",
       "  <th>FullBath</th>             <td> 8112.1822</td> <td> 1079.853</td> <td>    7.512</td> <td> 0.000</td> <td> 5993.278</td> <td> 1.02e+04</td>\n",
       "</tr>\n",
       "<tr>\n",
       "  <th>HalfBath</th>             <td> 8628.5833</td> <td>  979.628</td> <td>    8.808</td> <td> 0.000</td> <td> 6706.342</td> <td> 1.06e+04</td>\n",
       "</tr>\n",
       "<tr>\n",
       "  <th>WoodDeckSF</th>           <td> 4612.9906</td> <td>  866.169</td> <td>    5.326</td> <td> 0.000</td> <td> 2913.380</td> <td> 6312.601</td>\n",
       "</tr>\n",
       "<tr>\n",
       "  <th>OpenPorchSF</th>          <td> 1945.7846</td> <td>  880.519</td> <td>    2.210</td> <td> 0.027</td> <td>  218.017</td> <td> 3673.552</td>\n",
       "</tr>\n",
       "<tr>\n",
       "  <th>EnclosedPorch</th>        <td>  433.4654</td> <td>  925.496</td> <td>    0.468</td> <td> 0.640</td> <td>-1382.558</td> <td> 2249.489</td>\n",
       "</tr>\n",
       "<tr>\n",
       "  <th>ScreenPorch</th>          <td> 1215.5974</td> <td>  814.712</td> <td>    1.492</td> <td> 0.136</td> <td> -383.043</td> <td> 2814.238</td>\n",
       "</tr>\n",
       "<tr>\n",
       "  <th>PoolArea</th>             <td> 1958.7220</td> <td>  770.165</td> <td>    2.543</td> <td> 0.011</td> <td>  447.492</td> <td> 3469.952</td>\n",
       "</tr>\n",
       "<tr>\n",
       "  <th>MiscVal</th>              <td> -657.3172</td> <td>  742.561</td> <td>   -0.885</td> <td> 0.376</td> <td>-2114.381</td> <td>  799.747</td>\n",
       "</tr>\n",
       "<tr>\n",
       "  <th>MoSold</th>               <td>  -94.2366</td> <td>  787.687</td> <td>   -0.120</td> <td> 0.905</td> <td>-1639.847</td> <td> 1451.374</td>\n",
       "</tr>\n",
       "<tr>\n",
       "  <th>YrSold</th>               <td>-1287.8271</td> <td>  798.725</td> <td>   -1.612</td> <td> 0.107</td> <td>-2855.097</td> <td>  279.442</td>\n",
       "</tr>\n",
       "<tr>\n",
       "  <th>YearBuilt</th>            <td> -467.7691</td> <td> 2528.939</td> <td>   -0.185</td> <td> 0.853</td> <td>-5430.092</td> <td> 4494.554</td>\n",
       "</tr>\n",
       "<tr>\n",
       "  <th>YearRemodAdd</th>         <td> 3060.9729</td> <td> 1268.647</td> <td>    2.413</td> <td> 0.016</td> <td>  571.614</td> <td> 5550.332</td>\n",
       "</tr>\n",
       "<tr>\n",
       "  <th>Zone_C (all)</th>         <td>-1148.2479</td> <td>  892.735</td> <td>   -1.286</td> <td> 0.199</td> <td>-2899.985</td> <td>  603.489</td>\n",
       "</tr>\n",
       "<tr>\n",
       "  <th>Zone_FV</th>              <td> -916.8425</td> <td> 1417.476</td> <td>   -0.647</td> <td> 0.518</td> <td>-3698.235</td> <td> 1864.550</td>\n",
       "</tr>\n",
       "<tr>\n",
       "  <th>Zone_RH</th>              <td>  338.9677</td> <td>  838.218</td> <td>    0.404</td> <td> 0.686</td> <td>-1305.796</td> <td> 1983.732</td>\n",
       "</tr>\n",
       "<tr>\n",
       "  <th>Zone_RL</th>              <td> 2370.4400</td> <td>  729.722</td> <td>    3.248</td> <td> 0.001</td> <td>  938.569</td> <td> 3802.311</td>\n",
       "</tr>\n",
       "<tr>\n",
       "  <th>Zone_RM</th>              <td>-2017.4412</td> <td>  950.492</td> <td>   -2.123</td> <td> 0.034</td> <td>-3882.512</td> <td> -152.371</td>\n",
       "</tr>\n",
       "<tr>\n",
       "  <th>Utilities_AllPub</th>     <td>  449.2765</td> <td>  352.836</td> <td>    1.273</td> <td> 0.203</td> <td> -243.063</td> <td> 1141.616</td>\n",
       "</tr>\n",
       "<tr>\n",
       "  <th>Utilities_NoSeWa</th>     <td> -449.2765</td> <td>  352.836</td> <td>   -1.273</td> <td> 0.203</td> <td>-1141.616</td> <td>  243.063</td>\n",
       "</tr>\n",
       "<tr>\n",
       "  <th>Neighborhood_Blmngtn</th> <td>-2070.6587</td> <td>  853.931</td> <td>   -2.425</td> <td> 0.015</td> <td>-3746.255</td> <td> -395.062</td>\n",
       "</tr>\n",
       "<tr>\n",
       "  <th>Neighborhood_Blueste</th> <td> -414.2476</td> <td>  703.653</td> <td>   -0.589</td> <td> 0.556</td> <td>-1794.966</td> <td>  966.471</td>\n",
       "</tr>\n",
       "<tr>\n",
       "  <th>Neighborhood_BrDale</th>  <td>-1215.8839</td> <td>  938.955</td> <td>   -1.295</td> <td> 0.196</td> <td>-3058.315</td> <td>  626.547</td>\n",
       "</tr>\n",
       "<tr>\n",
       "  <th>Neighborhood_BrkSide</th> <td> 1745.3610</td> <td>  982.319</td> <td>    1.777</td> <td> 0.076</td> <td> -182.161</td> <td> 3672.883</td>\n",
       "</tr>\n",
       "<tr>\n",
       "  <th>Neighborhood_ClearCr</th> <td> -393.4829</td> <td>  939.299</td> <td>   -0.419</td> <td> 0.675</td> <td>-2236.589</td> <td> 1449.623</td>\n",
       "</tr>\n",
       "<tr>\n",
       "  <th>Neighborhood_CollgCr</th> <td> -933.9439</td> <td>  900.955</td> <td>   -1.037</td> <td> 0.300</td> <td>-2701.811</td> <td>  833.923</td>\n",
       "</tr>\n",
       "<tr>\n",
       "  <th>Neighborhood_Crawfor</th> <td> 3584.1846</td> <td>  852.278</td> <td>    4.205</td> <td> 0.000</td> <td> 1911.832</td> <td> 5256.537</td>\n",
       "</tr>\n",
       "<tr>\n",
       "  <th>Neighborhood_Edwards</th> <td>-2836.4132</td> <td>  812.671</td> <td>   -3.490</td> <td> 0.001</td> <td>-4431.048</td> <td>-1241.778</td>\n",
       "</tr>\n",
       "<tr>\n",
       "  <th>Neighborhood_Gilbert</th> <td>-1923.0692</td> <td>  930.945</td> <td>   -2.066</td> <td> 0.039</td> <td>-3749.783</td> <td>  -96.355</td>\n",
       "</tr>\n",
       "<tr>\n",
       "  <th>Neighborhood_IDOTRR</th>  <td>   92.8633</td> <td> 1141.962</td> <td>    0.081</td> <td> 0.935</td> <td>-2147.911</td> <td> 2333.638</td>\n",
       "</tr>\n",
       "<tr>\n",
       "  <th>Neighborhood_MeadowV</th> <td>-2399.3625</td> <td> 1036.728</td> <td>   -2.314</td> <td> 0.021</td> <td>-4433.646</td> <td> -365.079</td>\n",
       "</tr>\n",
       "<tr>\n",
       "  <th>Neighborhood_Mitchel</th> <td>-1832.0639</td> <td>  786.965</td> <td>   -2.328</td> <td> 0.020</td> <td>-3376.259</td> <td> -287.868</td>\n",
       "</tr>\n",
       "<tr>\n",
       "  <th>Neighborhood_NAmes</th>   <td>-3095.6235</td> <td>  881.461</td> <td>   -3.512</td> <td> 0.000</td> <td>-4825.240</td> <td>-1366.007</td>\n",
       "</tr>\n",
       "<tr>\n",
       "  <th>Neighborhood_NPkVill</th> <td>-1408.4837</td> <td>  797.529</td> <td>   -1.766</td> <td> 0.078</td> <td>-2973.408</td> <td>  156.440</td>\n",
       "</tr>\n",
       "<tr>\n",
       "  <th>Neighborhood_NWAmes</th>  <td>-3737.3071</td> <td>  840.492</td> <td>   -4.447</td> <td> 0.000</td> <td>-5386.534</td> <td>-2088.081</td>\n",
       "</tr>\n",
       "<tr>\n",
       "  <th>Neighborhood_NoRidge</th> <td> 6955.1958</td> <td>  873.314</td> <td>    7.964</td> <td> 0.000</td> <td> 5241.566</td> <td> 8668.826</td>\n",
       "</tr>\n",
       "<tr>\n",
       "  <th>Neighborhood_NridgHt</th> <td> 5982.3783</td> <td>  941.351</td> <td>    6.355</td> <td> 0.000</td> <td> 4135.245</td> <td> 7829.512</td>\n",
       "</tr>\n",
       "<tr>\n",
       "  <th>Neighborhood_OldTown</th> <td> -602.1257</td> <td> 1348.736</td> <td>   -0.446</td> <td> 0.655</td> <td>-3248.637</td> <td> 2044.385</td>\n",
       "</tr>\n",
       "<tr>\n",
       "  <th>Neighborhood_SWISU</th>   <td> -274.6994</td> <td>  881.091</td> <td>   -0.312</td> <td> 0.755</td> <td>-2003.589</td> <td> 1454.190</td>\n",
       "</tr>\n",
       "<tr>\n",
       "  <th>Neighborhood_Sawyer</th>  <td>-1564.4661</td> <td>  800.396</td> <td>   -1.955</td> <td> 0.051</td> <td>-3135.015</td> <td>    6.083</td>\n",
       "</tr>\n",
       "<tr>\n",
       "  <th>Neighborhood_SawyerW</th> <td>  335.8505</td> <td>  844.837</td> <td>    0.398</td> <td> 0.691</td> <td>-1321.901</td> <td> 1993.602</td>\n",
       "</tr>\n",
       "<tr>\n",
       "  <th>Neighborhood_Somerst</th> <td> 3690.2544</td> <td> 1579.757</td> <td>    2.336</td> <td> 0.020</td> <td>  590.430</td> <td> 6790.078</td>\n",
       "</tr>\n",
       "<tr>\n",
       "  <th>Neighborhood_StoneBr</th> <td> 4014.2433</td> <td>  798.321</td> <td>    5.028</td> <td> 0.000</td> <td> 2447.766</td> <td> 5580.720</td>\n",
       "</tr>\n",
       "<tr>\n",
       "  <th>Neighborhood_Timber</th>  <td> 1070.9833</td> <td>  804.049</td> <td>    1.332</td> <td> 0.183</td> <td> -506.735</td> <td> 2648.701</td>\n",
       "</tr>\n",
       "<tr>\n",
       "  <th>Neighborhood_Veenker</th> <td> 1119.1315</td> <td>  792.362</td> <td>    1.412</td> <td> 0.158</td> <td> -435.652</td> <td> 2673.915</td>\n",
       "</tr>\n",
       "<tr>\n",
       "  <th>RoofStyle_Flat</th>       <td> 1196.4734</td> <td> 2499.307</td> <td>    0.479</td> <td> 0.632</td> <td>-3707.704</td> <td> 6100.651</td>\n",
       "</tr>\n",
       "<tr>\n",
       "  <th>RoofStyle_Gable</th>      <td>-1508.8769</td> <td>  522.932</td> <td>   -2.885</td> <td> 0.004</td> <td>-2534.982</td> <td> -482.772</td>\n",
       "</tr>\n",
       "<tr>\n",
       "  <th>RoofStyle_Gambrel</th>    <td> 1442.7530</td> <td>  864.181</td> <td>    1.670</td> <td> 0.095</td> <td> -252.956</td> <td> 3138.462</td>\n",
       "</tr>\n",
       "<tr>\n",
       "  <th>RoofStyle_Hip</th>        <td>  857.2027</td> <td>  548.022</td> <td>    1.564</td> <td> 0.118</td> <td> -218.135</td> <td> 1932.540</td>\n",
       "</tr>\n",
       "<tr>\n",
       "  <th>RoofStyle_Mansard</th>    <td>  331.4130</td> <td>  793.218</td> <td>    0.418</td> <td> 0.676</td> <td>-1225.051</td> <td> 1887.877</td>\n",
       "</tr>\n",
       "<tr>\n",
       "  <th>RoofStyle_Shed</th>       <td>  505.4219</td> <td>  828.007</td> <td>    0.610</td> <td> 0.542</td> <td>-1119.306</td> <td> 2130.150</td>\n",
       "</tr>\n",
       "<tr>\n",
       "  <th>RoofMatl_ClyTile</th>     <td>-1.214e+04</td> <td> 1312.628</td> <td>   -9.246</td> <td> 0.000</td> <td>-1.47e+04</td> <td>-9560.759</td>\n",
       "</tr>\n",
       "<tr>\n",
       "  <th>RoofMatl_CompShg</th>     <td>-1052.1432</td> <td> 4768.898</td> <td>   -0.221</td> <td> 0.825</td> <td>-1.04e+04</td> <td> 8305.460</td>\n",
       "</tr>\n",
       "<tr>\n",
       "  <th>RoofMatl_Metal</th>       <td>   10.2438</td> <td>  966.145</td> <td>    0.011</td> <td> 0.992</td> <td>-1885.541</td> <td> 1906.029</td>\n",
       "</tr>\n",
       "<tr>\n",
       "  <th>RoofMatl_Roll</th>        <td> -552.9529</td> <td> 1211.611</td> <td>   -0.456</td> <td> 0.648</td> <td>-2930.393</td> <td> 1824.488</td>\n",
       "</tr>\n",
       "<tr>\n",
       "  <th>RoofMatl_Tar&Grv</th>     <td>-2455.5178</td> <td> 2489.489</td> <td>   -0.986</td> <td> 0.324</td> <td>-7340.431</td> <td> 2429.396</td>\n",
       "</tr>\n",
       "<tr>\n",
       "  <th>RoofMatl_WdShake</th>     <td>  556.7726</td> <td> 2412.516</td> <td>    0.231</td> <td> 0.818</td> <td>-4177.103</td> <td> 5290.648</td>\n",
       "</tr>\n",
       "<tr>\n",
       "  <th>RoofMatl_WdShngl</th>     <td> 1187.2921</td> <td> 2144.243</td> <td>    0.554</td> <td> 0.580</td> <td>-3020.174</td> <td> 5394.758</td>\n",
       "</tr>\n",
       "<tr>\n",
       "  <th>Exterior_AsbShng</th>     <td> 1013.8108</td> <td>  800.261</td> <td>    1.267</td> <td> 0.205</td> <td> -556.473</td> <td> 2584.095</td>\n",
       "</tr>\n",
       "<tr>\n",
       "  <th>Exterior_AsphShn</th>     <td> -203.3415</td> <td>  714.492</td> <td>   -0.285</td> <td> 0.776</td> <td>-1605.329</td> <td> 1198.646</td>\n",
       "</tr>\n",
       "<tr>\n",
       "  <th>Exterior_BrkComm</th>     <td> -182.3914</td> <td>  724.442</td> <td>   -0.252</td> <td> 0.801</td> <td>-1603.903</td> <td> 1239.120</td>\n",
       "</tr>\n",
       "<tr>\n",
       "  <th>BsmtQual</th>             <td> 6640.3647</td> <td> 1552.652</td> <td>    4.277</td> <td> 0.000</td> <td> 3593.728</td> <td> 9687.001</td>\n",
       "</tr>\n",
       "<tr>\n",
       "  <th>Exterior_BrkFace</th>     <td> 2475.3060</td> <td>  833.982</td> <td>    2.968</td> <td> 0.003</td> <td>  838.854</td> <td> 4111.758</td>\n",
       "</tr>\n",
       "<tr>\n",
       "  <th>Exterior_CBlock</th>      <td>  -87.2817</td> <td>  694.860</td> <td>   -0.126</td> <td> 0.900</td> <td>-1450.747</td> <td> 1276.184</td>\n",
       "</tr>\n",
       "<tr>\n",
       "  <th>Exterior_CemntBd</th>     <td> 2746.9458</td> <td>  922.835</td> <td>    2.977</td> <td> 0.003</td> <td>  936.145</td> <td> 4557.746</td>\n",
       "</tr>\n",
       "<tr>\n",
       "  <th>Exterior_HdBoard</th>     <td>-3328.1086</td> <td>  745.907</td> <td>   -4.462</td> <td> 0.000</td> <td>-4791.739</td> <td>-1864.478</td>\n",
       "</tr>\n",
       "<tr>\n",
       "  <th>Exterior_ImStucc</th>     <td> -419.6397</td> <td>  706.297</td> <td>   -0.594</td> <td> 0.553</td> <td>-1805.546</td> <td>  966.266</td>\n",
       "</tr>\n",
       "<tr>\n",
       "  <th>Exterior_MetalSd</th>     <td> -390.9786</td> <td>  708.640</td> <td>   -0.552</td> <td> 0.581</td> <td>-1781.482</td> <td>  999.525</td>\n",
       "</tr>\n",
       "<tr>\n",
       "  <th>Exterior_Plywood</th>     <td>-1375.3018</td> <td>  874.812</td> <td>   -1.572</td> <td> 0.116</td> <td>-3091.872</td> <td>  341.268</td>\n",
       "</tr>\n",
       "<tr>\n",
       "  <th>Exterior_Stone</th>       <td> 1060.9531</td> <td>  769.059</td> <td>    1.380</td> <td> 0.168</td> <td> -448.107</td> <td> 2570.013</td>\n",
       "</tr>\n",
       "<tr>\n",
       "  <th>Exterior_Stucco</th>      <td>  680.4005</td> <td>  807.023</td> <td>    0.843</td> <td> 0.399</td> <td> -903.152</td> <td> 2263.953</td>\n",
       "</tr>\n",
       "<tr>\n",
       "  <th>Exterior_VinylSd</th>     <td> 2155.4701</td> <td>  787.499</td> <td>    2.737</td> <td> 0.006</td> <td>  610.228</td> <td> 3700.713</td>\n",
       "</tr>\n",
       "<tr>\n",
       "  <th>Exterior_Wd Sdng</th>     <td>-1262.0586</td> <td>  791.608</td> <td>   -1.594</td> <td> 0.111</td> <td>-2815.364</td> <td>  291.247</td>\n",
       "</tr>\n",
       "<tr>\n",
       "  <th>Exterior_WdShing</th>     <td> -694.7598</td> <td>  768.755</td> <td>   -0.904</td> <td> 0.366</td> <td>-2203.223</td> <td>  813.703</td>\n",
       "</tr>\n",
       "<tr>\n",
       "  <th>BsmtFinish_ALQ</th>       <td>-3.138e+04</td> <td> 6793.236</td> <td>   -4.619</td> <td> 0.000</td> <td>-4.47e+04</td> <td> -1.8e+04</td>\n",
       "</tr>\n",
       "<tr>\n",
       "  <th>BsmtFinish_BLQ</th>       <td>-2.629e+04</td> <td> 5766.515</td> <td>   -4.559</td> <td> 0.000</td> <td>-3.76e+04</td> <td> -1.5e+04</td>\n",
       "</tr>\n",
       "<tr>\n",
       "  <th>BsmtFinish_GLQ</th>       <td>-3.599e+04</td> <td> 8538.603</td> <td>   -4.216</td> <td> 0.000</td> <td>-5.27e+04</td> <td>-1.92e+04</td>\n",
       "</tr>\n",
       "<tr>\n",
       "  <th>BsmtFinish_LwQ</th>       <td>-1.951e+04</td> <td> 4242.373</td> <td>   -4.598</td> <td> 0.000</td> <td>-2.78e+04</td> <td>-1.12e+04</td>\n",
       "</tr>\n",
       "<tr>\n",
       "  <th>BsmtFinish_Rec</th>       <td>-2.598e+04</td> <td> 5497.136</td> <td>   -4.727</td> <td> 0.000</td> <td>-3.68e+04</td> <td>-1.52e+04</td>\n",
       "</tr>\n",
       "<tr>\n",
       "  <th>BsmtFinish_Unf</th>       <td>-4.265e+04</td> <td> 8582.706</td> <td>   -4.970</td> <td> 0.000</td> <td>-5.95e+04</td> <td>-2.58e+04</td>\n",
       "</tr>\n",
       "<tr>\n",
       "  <th>FireplaceQu_Ex</th>       <td> 1326.1151</td> <td>  970.168</td> <td>    1.367</td> <td> 0.172</td> <td> -577.564</td> <td> 3229.794</td>\n",
       "</tr>\n",
       "<tr>\n",
       "  <th>FireplaceQu_Fa</th>       <td>-1321.1434</td> <td>  943.871</td> <td>   -1.400</td> <td> 0.162</td> <td>-3173.221</td> <td>  530.934</td>\n",
       "</tr>\n",
       "<tr>\n",
       "  <th>FireplaceQu_Gd</th>       <td> 1077.2550</td> <td> 1834.420</td> <td>    0.587</td> <td> 0.557</td> <td>-2522.271</td> <td> 4676.781</td>\n",
       "</tr>\n",
       "<tr>\n",
       "  <th>FireplaceQu_Po</th>       <td> -883.3451</td> <td>  927.073</td> <td>   -0.953</td> <td> 0.341</td> <td>-2702.461</td> <td>  935.771</td>\n",
       "</tr>\n",
       "<tr>\n",
       "  <th>FireplaceQu_TA</th>       <td> -183.2841</td> <td> 1821.892</td> <td>   -0.101</td> <td> 0.920</td> <td>-3758.227</td> <td> 3391.659</td>\n",
       "</tr>\n",
       "<tr>\n",
       "  <th>Paving_N</th>             <td> -519.9333</td> <td>  586.871</td> <td>   -0.886</td> <td> 0.376</td> <td>-1671.501</td> <td>  631.635</td>\n",
       "</tr>\n",
       "<tr>\n",
       "  <th>Paving_P</th>             <td> -615.9049</td> <td>  715.430</td> <td>   -0.861</td> <td> 0.389</td> <td>-2019.733</td> <td>  787.923</td>\n",
       "</tr>\n",
       "<tr>\n",
       "  <th>Paving_Y</th>             <td>  773.6643</td> <td>  476.791</td> <td>    1.623</td> <td> 0.105</td> <td> -161.902</td> <td> 1709.230</td>\n",
       "</tr>\n",
       "<tr>\n",
       "  <th>BsmtQual</th>             <td> 6640.3647</td> <td> 1552.652</td> <td>    4.277</td> <td> 0.000</td> <td> 3593.728</td> <td> 9687.001</td>\n",
       "</tr>\n",
       "</table>\n",
       "<table class=\"simpletable\">\n",
       "<tr>\n",
       "  <th>Omnibus:</th>       <td>254.825</td> <th>  Durbin-Watson:     </th> <td>   2.109</td>\n",
       "</tr>\n",
       "<tr>\n",
       "  <th>Prob(Omnibus):</th> <td> 0.000</td>  <th>  Jarque-Bera (JB):  </th> <td>4865.661</td>\n",
       "</tr>\n",
       "<tr>\n",
       "  <th>Skew:</th>          <td>-0.491</td>  <th>  Prob(JB):          </th> <td>    0.00</td>\n",
       "</tr>\n",
       "<tr>\n",
       "  <th>Kurtosis:</th>      <td>13.029</td>  <th>  Cond. No.          </th> <td>1.78e+16</td>\n",
       "</tr>\n",
       "</table>"
      ],
      "text/plain": [
       "<class 'statsmodels.iolib.summary.Summary'>\n",
       "\"\"\"\n",
       "                            OLS Regression Results                            \n",
       "==============================================================================\n",
       "Dep. Variable:              SalePrice   R-squared:                       0.870\n",
       "Model:                            OLS   Adj. R-squared:                  0.859\n",
       "Method:                 Least Squares   F-statistic:                     75.26\n",
       "Date:                Thu, 22 Feb 2018   Prob (F-statistic):               0.00\n",
       "Time:                        23:41:58   Log-Likelihood:                -13251.\n",
       "No. Observations:                1150   AIC:                         2.669e+04\n",
       "Df Residuals:                    1055   BIC:                         2.717e+04\n",
       "Df Model:                          94                                         \n",
       "Covariance Type:            nonrobust                                         \n",
       "========================================================================================\n",
       "                           coef    std err          t      P>|t|      [0.025      0.975]\n",
       "----------------------------------------------------------------------------------------\n",
       "const                 1.754e+05    757.297    231.584      0.000    1.74e+05    1.77e+05\n",
       "LotFrontage           5556.4736   1025.218      5.420      0.000    3544.775    7568.172\n",
       "LotArea               5211.5440   1066.219      4.888      0.000    3119.393    7303.695\n",
       "OverallQual           1.814e+04   1459.598     12.425      0.000    1.53e+04     2.1e+04\n",
       "OverallCond           6546.5818   1076.749      6.080      0.000    4433.769    8659.394\n",
       "MasVnrArea            3631.6227    960.137      3.782      0.000    1747.627    5515.619\n",
       "Foundation_BrkTil    -1499.9551    933.620     -1.607      0.108   -3331.918     332.007\n",
       "Foundation_CBlock      -61.2616    737.741     -0.083      0.934   -1508.868    1386.345\n",
       "Foundation_PConc       544.6508    825.184      0.660      0.509   -1074.538    2163.840\n",
       "Foundation_Slab       1150.0686   1304.919      0.881      0.378   -1410.463    3710.600\n",
       "Foundation_Stone      1199.4908    722.567      1.660      0.097    -218.341    2617.322\n",
       "Foundation_Wood       -276.6139    693.956     -0.399      0.690   -1638.306    1085.078\n",
       "TotalBsmtSF            1.48e+04   1353.976     10.928      0.000    1.21e+04    1.75e+04\n",
       "Fireplaces            5984.5916   2058.454      2.907      0.004    1945.463       1e+04\n",
       "CentralAir_Y          1032.4098    977.097      1.057      0.291    -884.865    2949.685\n",
       "FullBath              8112.1822   1079.853      7.512      0.000    5993.278    1.02e+04\n",
       "HalfBath              8628.5833    979.628      8.808      0.000    6706.342    1.06e+04\n",
       "WoodDeckSF            4612.9906    866.169      5.326      0.000    2913.380    6312.601\n",
       "OpenPorchSF           1945.7846    880.519      2.210      0.027     218.017    3673.552\n",
       "EnclosedPorch          433.4654    925.496      0.468      0.640   -1382.558    2249.489\n",
       "ScreenPorch           1215.5974    814.712      1.492      0.136    -383.043    2814.238\n",
       "PoolArea              1958.7220    770.165      2.543      0.011     447.492    3469.952\n",
       "MiscVal               -657.3172    742.561     -0.885      0.376   -2114.381     799.747\n",
       "MoSold                 -94.2366    787.687     -0.120      0.905   -1639.847    1451.374\n",
       "YrSold               -1287.8271    798.725     -1.612      0.107   -2855.097     279.442\n",
       "YearBuilt             -467.7691   2528.939     -0.185      0.853   -5430.092    4494.554\n",
       "YearRemodAdd          3060.9729   1268.647      2.413      0.016     571.614    5550.332\n",
       "Zone_C (all)         -1148.2479    892.735     -1.286      0.199   -2899.985     603.489\n",
       "Zone_FV               -916.8425   1417.476     -0.647      0.518   -3698.235    1864.550\n",
       "Zone_RH                338.9677    838.218      0.404      0.686   -1305.796    1983.732\n",
       "Zone_RL               2370.4400    729.722      3.248      0.001     938.569    3802.311\n",
       "Zone_RM              -2017.4412    950.492     -2.123      0.034   -3882.512    -152.371\n",
       "Utilities_AllPub       449.2765    352.836      1.273      0.203    -243.063    1141.616\n",
       "Utilities_NoSeWa      -449.2765    352.836     -1.273      0.203   -1141.616     243.063\n",
       "Neighborhood_Blmngtn -2070.6587    853.931     -2.425      0.015   -3746.255    -395.062\n",
       "Neighborhood_Blueste  -414.2476    703.653     -0.589      0.556   -1794.966     966.471\n",
       "Neighborhood_BrDale  -1215.8839    938.955     -1.295      0.196   -3058.315     626.547\n",
       "Neighborhood_BrkSide  1745.3610    982.319      1.777      0.076    -182.161    3672.883\n",
       "Neighborhood_ClearCr  -393.4829    939.299     -0.419      0.675   -2236.589    1449.623\n",
       "Neighborhood_CollgCr  -933.9439    900.955     -1.037      0.300   -2701.811     833.923\n",
       "Neighborhood_Crawfor  3584.1846    852.278      4.205      0.000    1911.832    5256.537\n",
       "Neighborhood_Edwards -2836.4132    812.671     -3.490      0.001   -4431.048   -1241.778\n",
       "Neighborhood_Gilbert -1923.0692    930.945     -2.066      0.039   -3749.783     -96.355\n",
       "Neighborhood_IDOTRR     92.8633   1141.962      0.081      0.935   -2147.911    2333.638\n",
       "Neighborhood_MeadowV -2399.3625   1036.728     -2.314      0.021   -4433.646    -365.079\n",
       "Neighborhood_Mitchel -1832.0639    786.965     -2.328      0.020   -3376.259    -287.868\n",
       "Neighborhood_NAmes   -3095.6235    881.461     -3.512      0.000   -4825.240   -1366.007\n",
       "Neighborhood_NPkVill -1408.4837    797.529     -1.766      0.078   -2973.408     156.440\n",
       "Neighborhood_NWAmes  -3737.3071    840.492     -4.447      0.000   -5386.534   -2088.081\n",
       "Neighborhood_NoRidge  6955.1958    873.314      7.964      0.000    5241.566    8668.826\n",
       "Neighborhood_NridgHt  5982.3783    941.351      6.355      0.000    4135.245    7829.512\n",
       "Neighborhood_OldTown  -602.1257   1348.736     -0.446      0.655   -3248.637    2044.385\n",
       "Neighborhood_SWISU    -274.6994    881.091     -0.312      0.755   -2003.589    1454.190\n",
       "Neighborhood_Sawyer  -1564.4661    800.396     -1.955      0.051   -3135.015       6.083\n",
       "Neighborhood_SawyerW   335.8505    844.837      0.398      0.691   -1321.901    1993.602\n",
       "Neighborhood_Somerst  3690.2544   1579.757      2.336      0.020     590.430    6790.078\n",
       "Neighborhood_StoneBr  4014.2433    798.321      5.028      0.000    2447.766    5580.720\n",
       "Neighborhood_Timber   1070.9833    804.049      1.332      0.183    -506.735    2648.701\n",
       "Neighborhood_Veenker  1119.1315    792.362      1.412      0.158    -435.652    2673.915\n",
       "RoofStyle_Flat        1196.4734   2499.307      0.479      0.632   -3707.704    6100.651\n",
       "RoofStyle_Gable      -1508.8769    522.932     -2.885      0.004   -2534.982    -482.772\n",
       "RoofStyle_Gambrel     1442.7530    864.181      1.670      0.095    -252.956    3138.462\n",
       "RoofStyle_Hip          857.2027    548.022      1.564      0.118    -218.135    1932.540\n",
       "RoofStyle_Mansard      331.4130    793.218      0.418      0.676   -1225.051    1887.877\n",
       "RoofStyle_Shed         505.4219    828.007      0.610      0.542   -1119.306    2130.150\n",
       "RoofMatl_ClyTile     -1.214e+04   1312.628     -9.246      0.000   -1.47e+04   -9560.759\n",
       "RoofMatl_CompShg     -1052.1432   4768.898     -0.221      0.825   -1.04e+04    8305.460\n",
       "RoofMatl_Metal          10.2438    966.145      0.011      0.992   -1885.541    1906.029\n",
       "RoofMatl_Roll         -552.9529   1211.611     -0.456      0.648   -2930.393    1824.488\n",
       "RoofMatl_Tar&Grv     -2455.5178   2489.489     -0.986      0.324   -7340.431    2429.396\n",
       "RoofMatl_WdShake       556.7726   2412.516      0.231      0.818   -4177.103    5290.648\n",
       "RoofMatl_WdShngl      1187.2921   2144.243      0.554      0.580   -3020.174    5394.758\n",
       "Exterior_AsbShng      1013.8108    800.261      1.267      0.205    -556.473    2584.095\n",
       "Exterior_AsphShn      -203.3415    714.492     -0.285      0.776   -1605.329    1198.646\n",
       "Exterior_BrkComm      -182.3914    724.442     -0.252      0.801   -1603.903    1239.120\n",
       "BsmtQual              6640.3647   1552.652      4.277      0.000    3593.728    9687.001\n",
       "Exterior_BrkFace      2475.3060    833.982      2.968      0.003     838.854    4111.758\n",
       "Exterior_CBlock        -87.2817    694.860     -0.126      0.900   -1450.747    1276.184\n",
       "Exterior_CemntBd      2746.9458    922.835      2.977      0.003     936.145    4557.746\n",
       "Exterior_HdBoard     -3328.1086    745.907     -4.462      0.000   -4791.739   -1864.478\n",
       "Exterior_ImStucc      -419.6397    706.297     -0.594      0.553   -1805.546     966.266\n",
       "Exterior_MetalSd      -390.9786    708.640     -0.552      0.581   -1781.482     999.525\n",
       "Exterior_Plywood     -1375.3018    874.812     -1.572      0.116   -3091.872     341.268\n",
       "Exterior_Stone        1060.9531    769.059      1.380      0.168    -448.107    2570.013\n",
       "Exterior_Stucco        680.4005    807.023      0.843      0.399    -903.152    2263.953\n",
       "Exterior_VinylSd      2155.4701    787.499      2.737      0.006     610.228    3700.713\n",
       "Exterior_Wd Sdng     -1262.0586    791.608     -1.594      0.111   -2815.364     291.247\n",
       "Exterior_WdShing      -694.7598    768.755     -0.904      0.366   -2203.223     813.703\n",
       "BsmtFinish_ALQ       -3.138e+04   6793.236     -4.619      0.000   -4.47e+04    -1.8e+04\n",
       "BsmtFinish_BLQ       -2.629e+04   5766.515     -4.559      0.000   -3.76e+04    -1.5e+04\n",
       "BsmtFinish_GLQ       -3.599e+04   8538.603     -4.216      0.000   -5.27e+04   -1.92e+04\n",
       "BsmtFinish_LwQ       -1.951e+04   4242.373     -4.598      0.000   -2.78e+04   -1.12e+04\n",
       "BsmtFinish_Rec       -2.598e+04   5497.136     -4.727      0.000   -3.68e+04   -1.52e+04\n",
       "BsmtFinish_Unf       -4.265e+04   8582.706     -4.970      0.000   -5.95e+04   -2.58e+04\n",
       "FireplaceQu_Ex        1326.1151    970.168      1.367      0.172    -577.564    3229.794\n",
       "FireplaceQu_Fa       -1321.1434    943.871     -1.400      0.162   -3173.221     530.934\n",
       "FireplaceQu_Gd        1077.2550   1834.420      0.587      0.557   -2522.271    4676.781\n",
       "FireplaceQu_Po        -883.3451    927.073     -0.953      0.341   -2702.461     935.771\n",
       "FireplaceQu_TA        -183.2841   1821.892     -0.101      0.920   -3758.227    3391.659\n",
       "Paving_N              -519.9333    586.871     -0.886      0.376   -1671.501     631.635\n",
       "Paving_P              -615.9049    715.430     -0.861      0.389   -2019.733     787.923\n",
       "Paving_Y               773.6643    476.791      1.623      0.105    -161.902    1709.230\n",
       "BsmtQual              6640.3647   1552.652      4.277      0.000    3593.728    9687.001\n",
       "==============================================================================\n",
       "Omnibus:                      254.825   Durbin-Watson:                   2.109\n",
       "Prob(Omnibus):                  0.000   Jarque-Bera (JB):             4865.661\n",
       "Skew:                          -0.491   Prob(JB):                         0.00\n",
       "Kurtosis:                      13.029   Cond. No.                     1.78e+16\n",
       "==============================================================================\n",
       "\n",
       "Warnings:\n",
       "[1] Standard Errors assume that the covariance matrix of the errors is correctly specified.\n",
       "[2] The smallest eigenvalue is 2.86e-29. This might indicate that there are\n",
       "strong multicollinearity problems or that the design matrix is singular.\n",
       "\"\"\""
      ]
     },
     "execution_count": 2883,
     "metadata": {},
     "output_type": "execute_result"
    }
   ],
   "source": [
    "reg = smf.OLS(y_train, controls).fit()\n",
    "reg.params\n",
    "reg.summary()\n",
    "#missing='drop'"
   ]
  },
  {
   "cell_type": "markdown",
   "metadata": {},
   "source": [
    "We may be overfitting, but let's take a look at the predictions anyway."
   ]
  },
  {
   "cell_type": "code",
   "execution_count": 2884,
   "metadata": {},
   "outputs": [
    {
     "data": {
      "text/plain": [
       "0     128104.189548\n",
       "1     176772.521115\n",
       "2     107370.061587\n",
       "3     211148.418015\n",
       "4     197182.108068\n",
       "5     269340.532763\n",
       "6     341823.352349\n",
       "7     133303.862077\n",
       "8     206520.829407\n",
       "9     101370.951284\n",
       "10    137157.830758\n",
       "11    141569.671235\n",
       "12    155948.412398\n",
       "13    317147.797265\n",
       "14     92876.728780\n",
       "dtype: float64"
      ]
     },
     "execution_count": 2884,
     "metadata": {},
     "output_type": "execute_result"
    }
   ],
   "source": [
    "ypred_train = reg.predict(controls) #training error- testing error really matters\n",
    "ypred_train.head(15)"
   ]
  },
  {
   "cell_type": "markdown",
   "metadata": {},
   "source": [
    "These seem like reasonable predictions for home prices.  Let's check our RMSE."
   ]
  },
  {
   "cell_type": "code",
   "execution_count": 2885,
   "metadata": {},
   "outputs": [
    {
     "name": "stdout",
     "output_type": "stream",
     "text": [
      "Train RMSE: 24426.656229973556\n"
     ]
    }
   ],
   "source": [
    "print(\"Train RMSE: {}\".format(np.sqrt(mean_squared_error(y_train,ypred_train))))"
   ]
  },
  {
   "cell_type": "markdown",
   "metadata": {},
   "source": [
    "This is a pretty high value for RMSE.  If this is how our model fares on the training set we can't expect it will do better on the testing set.  One way we can try to fix the high variance we're seeing is by taking out some of our control variables."
   ]
  },
  {
   "cell_type": "code",
   "execution_count": 2886,
   "metadata": {},
   "outputs": [],
   "source": [
    "controls2=X_train[['LotFrontage', 'LotArea', 'OverallQual','MoSold', 'YrSold', 'YearBuilt','Zone_C (all)','Zone_FV',\n",
    "                'Zone_RH','Zone_RL','Zone_RM','Utilities_AllPub','Utilities_NoSeWa','Neighborhood_Blmngtn',\n",
    "                'Neighborhood_Blueste','Neighborhood_BrDale','Neighborhood_BrkSide','Neighborhood_ClearCr',\n",
    "                'Neighborhood_CollgCr','Neighborhood_Crawfor','Neighborhood_Edwards','Neighborhood_Gilbert',\n",
    "                'Neighborhood_IDOTRR','Neighborhood_MeadowV','Neighborhood_Mitchel','Neighborhood_NAmes',\n",
    " 'Neighborhood_NPkVill','Neighborhood_NWAmes','Neighborhood_NoRidge','Neighborhood_NridgHt','Neighborhood_OldTown',\n",
    " 'Neighborhood_SWISU','Neighborhood_Sawyer','Neighborhood_SawyerW','Neighborhood_Somerst','Neighborhood_StoneBr',\n",
    " 'Neighborhood_Timber','Neighborhood_Veenker','BsmtQual']]"
   ]
  },
  {
   "cell_type": "code",
   "execution_count": 2887,
   "metadata": {},
   "outputs": [
    {
     "data": {
      "text/html": [
       "<table class=\"simpletable\">\n",
       "<caption>OLS Regression Results</caption>\n",
       "<tr>\n",
       "  <th>Dep. Variable:</th>        <td>SalePrice</td>    <th>  R-squared:         </th> <td>   0.767</td> \n",
       "</tr>\n",
       "<tr>\n",
       "  <th>Model:</th>                   <td>OLS</td>       <th>  Adj. R-squared:    </th> <td>   0.759</td> \n",
       "</tr>\n",
       "<tr>\n",
       "  <th>Method:</th>             <td>Least Squares</td>  <th>  F-statistic:       </th> <td>   101.5</td> \n",
       "</tr>\n",
       "<tr>\n",
       "  <th>Date:</th>             <td>Thu, 22 Feb 2018</td> <th>  Prob (F-statistic):</th> <td>4.64e-322</td>\n",
       "</tr>\n",
       "<tr>\n",
       "  <th>Time:</th>                 <td>23:42:00</td>     <th>  Log-Likelihood:    </th> <td> -13588.</td> \n",
       "</tr>\n",
       "<tr>\n",
       "  <th>No. Observations:</th>      <td>  1150</td>      <th>  AIC:               </th> <td>2.725e+04</td>\n",
       "</tr>\n",
       "<tr>\n",
       "  <th>Df Residuals:</th>          <td>  1113</td>      <th>  BIC:               </th> <td>2.744e+04</td>\n",
       "</tr>\n",
       "<tr>\n",
       "  <th>Df Model:</th>              <td>    36</td>      <th>                     </th>     <td> </td>    \n",
       "</tr>\n",
       "<tr>\n",
       "  <th>Covariance Type:</th>      <td>nonrobust</td>    <th>                     </th>     <td> </td>    \n",
       "</tr>\n",
       "</table>\n",
       "<table class=\"simpletable\">\n",
       "<tr>\n",
       "            <td></td>              <th>coef</th>     <th>std err</th>      <th>t</th>      <th>P>|t|</th>  <th>[0.025</th>    <th>0.975]</th>  \n",
       "</tr>\n",
       "<tr>\n",
       "  <th>const</th>                <td> 1.753e+05</td> <td>  984.373</td> <td>  178.083</td> <td> 0.000</td> <td> 1.73e+05</td> <td> 1.77e+05</td>\n",
       "</tr>\n",
       "<tr>\n",
       "  <th>LotFrontage</th>          <td> 5545.9038</td> <td> 1184.521</td> <td>    4.682</td> <td> 0.000</td> <td> 3221.757</td> <td> 7870.051</td>\n",
       "</tr>\n",
       "<tr>\n",
       "  <th>LotArea</th>              <td> 9108.7861</td> <td> 1284.215</td> <td>    7.093</td> <td> 0.000</td> <td> 6589.031</td> <td> 1.16e+04</td>\n",
       "</tr>\n",
       "<tr>\n",
       "  <th>OverallQual</th>          <td> 3.462e+04</td> <td> 1548.005</td> <td>   22.362</td> <td> 0.000</td> <td> 3.16e+04</td> <td> 3.77e+04</td>\n",
       "</tr>\n",
       "<tr>\n",
       "  <th>MoSold</th>               <td>   32.0065</td> <td> 1004.269</td> <td>    0.032</td> <td> 0.975</td> <td>-1938.467</td> <td> 2002.480</td>\n",
       "</tr>\n",
       "<tr>\n",
       "  <th>YrSold</th>               <td>  -64.0784</td> <td> 1004.255</td> <td>   -0.064</td> <td> 0.949</td> <td>-2034.524</td> <td> 1906.367</td>\n",
       "</tr>\n",
       "<tr>\n",
       "  <th>YearBuilt</th>            <td> 1.083e+04</td> <td> 2307.569</td> <td>    4.695</td> <td> 0.000</td> <td> 6306.355</td> <td> 1.54e+04</td>\n",
       "</tr>\n",
       "<tr>\n",
       "  <th>Zone_C (all)</th>         <td> -877.8879</td> <td> 1127.853</td> <td>   -0.778</td> <td> 0.437</td> <td>-3090.845</td> <td> 1335.069</td>\n",
       "</tr>\n",
       "<tr>\n",
       "  <th>Zone_FV</th>              <td>-2095.8678</td> <td> 1783.258</td> <td>   -1.175</td> <td> 0.240</td> <td>-5594.794</td> <td> 1403.058</td>\n",
       "</tr>\n",
       "<tr>\n",
       "  <th>Zone_RH</th>              <td> -898.8636</td> <td> 1057.447</td> <td>   -0.850</td> <td> 0.395</td> <td>-2973.677</td> <td> 1175.950</td>\n",
       "</tr>\n",
       "<tr>\n",
       "  <th>Zone_RL</th>              <td> 3424.7961</td> <td>  919.426</td> <td>    3.725</td> <td> 0.000</td> <td> 1620.792</td> <td> 5228.800</td>\n",
       "</tr>\n",
       "<tr>\n",
       "  <th>Zone_RM</th>              <td>-2241.6161</td> <td> 1185.783</td> <td>   -1.890</td> <td> 0.059</td> <td>-4568.238</td> <td>   85.006</td>\n",
       "</tr>\n",
       "<tr>\n",
       "  <th>Utilities_AllPub</th>     <td>  672.1156</td> <td>  448.033</td> <td>    1.500</td> <td> 0.134</td> <td> -206.969</td> <td> 1551.200</td>\n",
       "</tr>\n",
       "<tr>\n",
       "  <th>Utilities_NoSeWa</th>     <td> -672.1156</td> <td>  448.033</td> <td>   -1.500</td> <td> 0.134</td> <td>-1551.200</td> <td>  206.969</td>\n",
       "</tr>\n",
       "<tr>\n",
       "  <th>Neighborhood_Blmngtn</th> <td>-2182.7841</td> <td> 1082.410</td> <td>   -2.017</td> <td> 0.044</td> <td>-4306.578</td> <td>  -58.990</td>\n",
       "</tr>\n",
       "<tr>\n",
       "  <th>Neighborhood_Blueste</th> <td> -394.9196</td> <td>  892.738</td> <td>   -0.442</td> <td> 0.658</td> <td>-2146.558</td> <td> 1356.719</td>\n",
       "</tr>\n",
       "<tr>\n",
       "  <th>Neighborhood_BrDale</th>  <td>-3577.3376</td> <td> 1110.954</td> <td>   -3.220</td> <td> 0.001</td> <td>-5757.138</td> <td>-1397.537</td>\n",
       "</tr>\n",
       "<tr>\n",
       "  <th>Neighborhood_BrkSide</th> <td>  902.8654</td> <td> 1231.051</td> <td>    0.733</td> <td> 0.463</td> <td>-1512.577</td> <td> 3318.308</td>\n",
       "</tr>\n",
       "<tr>\n",
       "  <th>Neighborhood_ClearCr</th> <td> 1667.6495</td> <td> 1070.386</td> <td>    1.558</td> <td> 0.120</td> <td> -432.552</td> <td> 3767.851</td>\n",
       "</tr>\n",
       "<tr>\n",
       "  <th>Neighborhood_CollgCr</th> <td>-2320.6942</td> <td> 1097.017</td> <td>   -2.115</td> <td> 0.035</td> <td>-4473.149</td> <td> -168.239</td>\n",
       "</tr>\n",
       "<tr>\n",
       "  <th>Neighborhood_Crawfor</th> <td> 6570.0453</td> <td> 1043.864</td> <td>    6.294</td> <td> 0.000</td> <td> 4521.882</td> <td> 8618.209</td>\n",
       "</tr>\n",
       "<tr>\n",
       "  <th>Neighborhood_Edwards</th> <td>-5045.7678</td> <td>  995.702</td> <td>   -5.068</td> <td> 0.000</td> <td>-6999.433</td> <td>-3092.103</td>\n",
       "</tr>\n",
       "<tr>\n",
       "  <th>Neighborhood_Gilbert</th> <td>-3359.2755</td> <td> 1066.557</td> <td>   -3.150</td> <td> 0.002</td> <td>-5451.965</td> <td>-1266.586</td>\n",
       "</tr>\n",
       "<tr>\n",
       "  <th>Neighborhood_IDOTRR</th>  <td>-2106.0226</td> <td> 1427.595</td> <td>   -1.475</td> <td> 0.140</td> <td>-4907.103</td> <td>  695.058</td>\n",
       "</tr>\n",
       "<tr>\n",
       "  <th>Neighborhood_MeadowV</th> <td>-1238.7600</td> <td> 1118.018</td> <td>   -1.108</td> <td> 0.268</td> <td>-3432.420</td> <td>  954.900</td>\n",
       "</tr>\n",
       "<tr>\n",
       "  <th>Neighborhood_Mitchel</th> <td>-3131.0729</td> <td>  977.627</td> <td>   -3.203</td> <td> 0.001</td> <td>-5049.272</td> <td>-1212.874</td>\n",
       "</tr>\n",
       "<tr>\n",
       "  <th>Neighborhood_NAmes</th>   <td>-3880.0425</td> <td>  967.913</td> <td>   -4.009</td> <td> 0.000</td> <td>-5779.182</td> <td>-1980.903</td>\n",
       "</tr>\n",
       "<tr>\n",
       "  <th>Neighborhood_NPkVill</th> <td>-1996.6922</td> <td>  940.857</td> <td>   -2.122</td> <td> 0.034</td> <td>-3842.746</td> <td> -150.638</td>\n",
       "</tr>\n",
       "<tr>\n",
       "  <th>Neighborhood_NWAmes</th>  <td>-1322.0935</td> <td>  955.282</td> <td>   -1.384</td> <td> 0.167</td> <td>-3196.451</td> <td>  552.264</td>\n",
       "</tr>\n",
       "<tr>\n",
       "  <th>Neighborhood_NoRidge</th> <td> 9888.3472</td> <td> 1005.970</td> <td>    9.830</td> <td> 0.000</td> <td> 7914.535</td> <td> 1.19e+04</td>\n",
       "</tr>\n",
       "<tr>\n",
       "  <th>Neighborhood_NridgHt</th> <td> 8542.5767</td> <td> 1126.236</td> <td>    7.585</td> <td> 0.000</td> <td> 6332.791</td> <td> 1.08e+04</td>\n",
       "</tr>\n",
       "<tr>\n",
       "  <th>Neighborhood_OldTown</th> <td> -239.7046</td> <td> 1688.470</td> <td>   -0.142</td> <td> 0.887</td> <td>-3552.648</td> <td> 3073.239</td>\n",
       "</tr>\n",
       "<tr>\n",
       "  <th>Neighborhood_SWISU</th>   <td>  642.6120</td> <td> 1101.152</td> <td>    0.584</td> <td> 0.560</td> <td>-1517.955</td> <td> 2803.179</td>\n",
       "</tr>\n",
       "<tr>\n",
       "  <th>Neighborhood_Sawyer</th>  <td>-2571.3553</td> <td>  980.951</td> <td>   -2.621</td> <td> 0.009</td> <td>-4496.077</td> <td> -646.633</td>\n",
       "</tr>\n",
       "<tr>\n",
       "  <th>Neighborhood_SawyerW</th> <td> -217.4504</td> <td> 1051.156</td> <td>   -0.207</td> <td> 0.836</td> <td>-2279.922</td> <td> 1845.021</td>\n",
       "</tr>\n",
       "<tr>\n",
       "  <th>Neighborhood_Somerst</th> <td> 3743.6175</td> <td> 1997.019</td> <td>    1.875</td> <td> 0.061</td> <td> -174.730</td> <td> 7661.965</td>\n",
       "</tr>\n",
       "<tr>\n",
       "  <th>Neighborhood_StoneBr</th> <td> 3976.0048</td> <td>  997.309</td> <td>    3.987</td> <td> 0.000</td> <td> 2019.186</td> <td> 5932.823</td>\n",
       "</tr>\n",
       "<tr>\n",
       "  <th>Neighborhood_Timber</th>  <td> 2020.0260</td> <td>  999.412</td> <td>    2.021</td> <td> 0.043</td> <td>   59.083</td> <td> 3980.970</td>\n",
       "</tr>\n",
       "<tr>\n",
       "  <th>Neighborhood_Veenker</th> <td> 2454.7288</td> <td>  977.521</td> <td>    2.511</td> <td> 0.012</td> <td>  536.737</td> <td> 4372.721</td>\n",
       "</tr>\n",
       "<tr>\n",
       "  <th>BsmtQual</th>             <td> 3288.6529</td> <td> 1183.300</td> <td>    2.779</td> <td> 0.006</td> <td>  966.903</td> <td> 5610.403</td>\n",
       "</tr>\n",
       "</table>\n",
       "<table class=\"simpletable\">\n",
       "<tr>\n",
       "  <th>Omnibus:</th>       <td>109.773</td> <th>  Durbin-Watson:     </th> <td>   2.034</td> \n",
       "</tr>\n",
       "<tr>\n",
       "  <th>Prob(Omnibus):</th> <td> 0.000</td>  <th>  Jarque-Bera (JB):  </th> <td> 633.834</td> \n",
       "</tr>\n",
       "<tr>\n",
       "  <th>Skew:</th>          <td> 0.198</td>  <th>  Prob(JB):          </th> <td>2.32e-138</td>\n",
       "</tr>\n",
       "<tr>\n",
       "  <th>Kurtosis:</th>      <td> 6.615</td>  <th>  Cond. No.          </th> <td>1.48e+16</td> \n",
       "</tr>\n",
       "</table>"
      ],
      "text/plain": [
       "<class 'statsmodels.iolib.summary.Summary'>\n",
       "\"\"\"\n",
       "                            OLS Regression Results                            \n",
       "==============================================================================\n",
       "Dep. Variable:              SalePrice   R-squared:                       0.767\n",
       "Model:                            OLS   Adj. R-squared:                  0.759\n",
       "Method:                 Least Squares   F-statistic:                     101.5\n",
       "Date:                Thu, 22 Feb 2018   Prob (F-statistic):          4.64e-322\n",
       "Time:                        23:42:00   Log-Likelihood:                -13588.\n",
       "No. Observations:                1150   AIC:                         2.725e+04\n",
       "Df Residuals:                    1113   BIC:                         2.744e+04\n",
       "Df Model:                          36                                         \n",
       "Covariance Type:            nonrobust                                         \n",
       "========================================================================================\n",
       "                           coef    std err          t      P>|t|      [0.025      0.975]\n",
       "----------------------------------------------------------------------------------------\n",
       "const                 1.753e+05    984.373    178.083      0.000    1.73e+05    1.77e+05\n",
       "LotFrontage           5545.9038   1184.521      4.682      0.000    3221.757    7870.051\n",
       "LotArea               9108.7861   1284.215      7.093      0.000    6589.031    1.16e+04\n",
       "OverallQual           3.462e+04   1548.005     22.362      0.000    3.16e+04    3.77e+04\n",
       "MoSold                  32.0065   1004.269      0.032      0.975   -1938.467    2002.480\n",
       "YrSold                 -64.0784   1004.255     -0.064      0.949   -2034.524    1906.367\n",
       "YearBuilt             1.083e+04   2307.569      4.695      0.000    6306.355    1.54e+04\n",
       "Zone_C (all)          -877.8879   1127.853     -0.778      0.437   -3090.845    1335.069\n",
       "Zone_FV              -2095.8678   1783.258     -1.175      0.240   -5594.794    1403.058\n",
       "Zone_RH               -898.8636   1057.447     -0.850      0.395   -2973.677    1175.950\n",
       "Zone_RL               3424.7961    919.426      3.725      0.000    1620.792    5228.800\n",
       "Zone_RM              -2241.6161   1185.783     -1.890      0.059   -4568.238      85.006\n",
       "Utilities_AllPub       672.1156    448.033      1.500      0.134    -206.969    1551.200\n",
       "Utilities_NoSeWa      -672.1156    448.033     -1.500      0.134   -1551.200     206.969\n",
       "Neighborhood_Blmngtn -2182.7841   1082.410     -2.017      0.044   -4306.578     -58.990\n",
       "Neighborhood_Blueste  -394.9196    892.738     -0.442      0.658   -2146.558    1356.719\n",
       "Neighborhood_BrDale  -3577.3376   1110.954     -3.220      0.001   -5757.138   -1397.537\n",
       "Neighborhood_BrkSide   902.8654   1231.051      0.733      0.463   -1512.577    3318.308\n",
       "Neighborhood_ClearCr  1667.6495   1070.386      1.558      0.120    -432.552    3767.851\n",
       "Neighborhood_CollgCr -2320.6942   1097.017     -2.115      0.035   -4473.149    -168.239\n",
       "Neighborhood_Crawfor  6570.0453   1043.864      6.294      0.000    4521.882    8618.209\n",
       "Neighborhood_Edwards -5045.7678    995.702     -5.068      0.000   -6999.433   -3092.103\n",
       "Neighborhood_Gilbert -3359.2755   1066.557     -3.150      0.002   -5451.965   -1266.586\n",
       "Neighborhood_IDOTRR  -2106.0226   1427.595     -1.475      0.140   -4907.103     695.058\n",
       "Neighborhood_MeadowV -1238.7600   1118.018     -1.108      0.268   -3432.420     954.900\n",
       "Neighborhood_Mitchel -3131.0729    977.627     -3.203      0.001   -5049.272   -1212.874\n",
       "Neighborhood_NAmes   -3880.0425    967.913     -4.009      0.000   -5779.182   -1980.903\n",
       "Neighborhood_NPkVill -1996.6922    940.857     -2.122      0.034   -3842.746    -150.638\n",
       "Neighborhood_NWAmes  -1322.0935    955.282     -1.384      0.167   -3196.451     552.264\n",
       "Neighborhood_NoRidge  9888.3472   1005.970      9.830      0.000    7914.535    1.19e+04\n",
       "Neighborhood_NridgHt  8542.5767   1126.236      7.585      0.000    6332.791    1.08e+04\n",
       "Neighborhood_OldTown  -239.7046   1688.470     -0.142      0.887   -3552.648    3073.239\n",
       "Neighborhood_SWISU     642.6120   1101.152      0.584      0.560   -1517.955    2803.179\n",
       "Neighborhood_Sawyer  -2571.3553    980.951     -2.621      0.009   -4496.077    -646.633\n",
       "Neighborhood_SawyerW  -217.4504   1051.156     -0.207      0.836   -2279.922    1845.021\n",
       "Neighborhood_Somerst  3743.6175   1997.019      1.875      0.061    -174.730    7661.965\n",
       "Neighborhood_StoneBr  3976.0048    997.309      3.987      0.000    2019.186    5932.823\n",
       "Neighborhood_Timber   2020.0260    999.412      2.021      0.043      59.083    3980.970\n",
       "Neighborhood_Veenker  2454.7288    977.521      2.511      0.012     536.737    4372.721\n",
       "BsmtQual              3288.6529   1183.300      2.779      0.006     966.903    5610.403\n",
       "==============================================================================\n",
       "Omnibus:                      109.773   Durbin-Watson:                   2.034\n",
       "Prob(Omnibus):                  0.000   Jarque-Bera (JB):              633.834\n",
       "Skew:                           0.198   Prob(JB):                    2.32e-138\n",
       "Kurtosis:                       6.615   Cond. No.                     1.48e+16\n",
       "==============================================================================\n",
       "\n",
       "Warnings:\n",
       "[1] Standard Errors assume that the covariance matrix of the errors is correctly specified.\n",
       "[2] The smallest eigenvalue is 1.79e-29. This might indicate that there are\n",
       "strong multicollinearity problems or that the design matrix is singular.\n",
       "\"\"\""
      ]
     },
     "execution_count": 2887,
     "metadata": {},
     "output_type": "execute_result"
    }
   ],
   "source": [
    "controls2=sm.add_constant(controls2)\n",
    "reg2 = smf.OLS(endog=y_train, exog=controls2).fit()\n",
    "reg2.params\n",
    "reg2.summary()"
   ]
  },
  {
   "cell_type": "code",
   "execution_count": 2888,
   "metadata": {},
   "outputs": [
    {
     "data": {
      "text/plain": [
       "0     128713.143410\n",
       "1     155268.812051\n",
       "2      83531.113194\n",
       "3     225469.112168\n",
       "4     183993.331555\n",
       "5     262590.032068\n",
       "6     346803.594358\n",
       "7     122525.880848\n",
       "8     205756.992287\n",
       "9     130222.814766\n",
       "10    135952.984710\n",
       "11    150443.513667\n",
       "12    162019.930090\n",
       "13    311838.247903\n",
       "14     74935.724128\n",
       "dtype: float64"
      ]
     },
     "execution_count": 2888,
     "metadata": {},
     "output_type": "execute_result"
    }
   ],
   "source": [
    "ypred2 = reg2.predict(controls2)\n",
    "ypred2.head(15)"
   ]
  },
  {
   "cell_type": "code",
   "execution_count": 2889,
   "metadata": {},
   "outputs": [
    {
     "data": {
      "text/plain": [
       "32760.816473749415"
      ]
     },
     "execution_count": 2889,
     "metadata": {},
     "output_type": "execute_result"
    }
   ],
   "source": [
    "np.sqrt(mean_squared_error(y_train,ypred2))"
   ]
  },
  {
   "cell_type": "markdown",
   "metadata": {},
   "source": [
    "This was not very effective.  In fact, this regression gives us an even higher RMSE.  We're going to have to do something more sophisticated to get to the bottom of this problem.  Let's explore regularization."
   ]
  },
  {
   "cell_type": "markdown",
   "metadata": {},
   "source": [
    "### **Tuning with Lasso**"
   ]
  },
  {
   "cell_type": "code",
   "execution_count": 2890,
   "metadata": {
    "collapsed": true
   },
   "outputs": [],
   "source": [
    "from sklearn.linear_model import Ridge, RidgeCV, ElasticNet, LassoCV, LassoLarsCV\n",
    "from sklearn.model_selection import cross_val_score"
   ]
  },
  {
   "cell_type": "markdown",
   "metadata": {},
   "source": [
    "Now that we've moved over into SK Learn packages, I don't need to worry about adding a constant to my controls.  I'm just going to define controls for my training set and for my testing set separately using the columns from the first regression we ran in my linear model."
   ]
  },
  {
   "cell_type": "code",
   "execution_count": 2891,
   "metadata": {
    "collapsed": true
   },
   "outputs": [],
   "source": [
    "controls_train=X_train[['LotFrontage', 'LotArea', 'OverallQual', 'OverallCond', 'MasVnrArea', 'Foundation_BrkTil',\n",
    "                'Foundation_CBlock','Foundation_PConc','Foundation_Slab','Foundation_Stone','Foundation_Wood',\n",
    "                'TotalBsmtSF', 'Fireplaces','CentralAir_Y', 'FullBath', 'HalfBath','WoodDeckSF','OpenPorchSF',\n",
    "                'EnclosedPorch', 'ScreenPorch','PoolArea', 'MiscVal','MoSold', 'YrSold', 'YearBuilt','YearRemodAdd',\n",
    "                'Zone_C (all)','Zone_FV','Zone_RH','Zone_RL','Zone_RM','Utilities_AllPub','Utilities_NoSeWa',\n",
    "                'Neighborhood_Blmngtn','Neighborhood_Blueste','Neighborhood_BrDale','Neighborhood_BrkSide',\n",
    "                'Neighborhood_ClearCr','Neighborhood_CollgCr','Neighborhood_Crawfor','Neighborhood_Edwards',\n",
    "                'Neighborhood_Gilbert','Neighborhood_IDOTRR','Neighborhood_MeadowV','Neighborhood_Mitchel','Neighborhood_NAmes',\n",
    " 'Neighborhood_NPkVill','Neighborhood_NWAmes','Neighborhood_NoRidge','Neighborhood_NridgHt','Neighborhood_OldTown',\n",
    " 'Neighborhood_SWISU','Neighborhood_Sawyer','Neighborhood_SawyerW','Neighborhood_Somerst','Neighborhood_StoneBr',\n",
    " 'Neighborhood_Timber','Neighborhood_Veenker','RoofStyle_Flat','RoofStyle_Gable','RoofStyle_Gambrel',\n",
    " 'RoofStyle_Hip','RoofStyle_Mansard','RoofStyle_Shed','RoofMatl_ClyTile','RoofMatl_CompShg','RoofMatl_Metal',\n",
    " 'RoofMatl_Roll','RoofMatl_Tar&Grv','RoofMatl_WdShake','RoofMatl_WdShngl','Exterior_AsbShng','Exterior_AsphShn',\n",
    " 'Exterior_BrkComm', 'BsmtQual','Exterior_BrkFace','Exterior_CBlock','Exterior_CemntBd','Exterior_HdBoard',\n",
    " 'Exterior_ImStucc','Exterior_MetalSd','Exterior_Plywood','Exterior_Stone','Exterior_Stucco','Exterior_VinylSd',\n",
    " 'Exterior_Wd Sdng','Exterior_WdShing','BsmtFinish_ALQ','BsmtFinish_BLQ','BsmtFinish_GLQ','BsmtFinish_LwQ',\n",
    " 'BsmtFinish_Rec','BsmtFinish_Unf','FireplaceQu_Ex','FireplaceQu_Fa','FireplaceQu_Gd','FireplaceQu_Po',\n",
    " 'FireplaceQu_TA','Paving_N','Paving_P','Paving_Y','BsmtQual']]"
   ]
  },
  {
   "cell_type": "markdown",
   "metadata": {},
   "source": [
    "Using LassoCV we can run our model using the optimal alpha value out of the 100 alphas tested for by the function.  Let's see where this gets us."
   ]
  },
  {
   "cell_type": "code",
   "execution_count": 2892,
   "metadata": {},
   "outputs": [
    {
     "data": {
      "text/plain": [
       "LassoCV(alphas=None, copy_X=True, cv=None, eps=0.001, fit_intercept=True,\n",
       "    max_iter=1000, n_alphas=100, n_jobs=1, normalize=False, positive=False,\n",
       "    precompute='auto', random_state=None, selection='cyclic', tol=0.0001,\n",
       "    verbose=False)"
      ]
     },
     "execution_count": 2892,
     "metadata": {},
     "output_type": "execute_result"
    }
   ],
   "source": [
    "lasso_reg=linear_model.LassoCV()\n",
    "lasso_reg.fit(controls_train,y_train)\n",
    "#lasso_reg.get_params()"
   ]
  },
  {
   "cell_type": "code",
   "execution_count": 2893,
   "metadata": {},
   "outputs": [
    {
     "data": {
      "text/plain": [
       "0.85702188653372124"
      ]
     },
     "execution_count": 2893,
     "metadata": {},
     "output_type": "execute_result"
    }
   ],
   "source": [
    "lasso_reg.score(controls_train,y_train)"
   ]
  },
  {
   "cell_type": "code",
   "execution_count": 2894,
   "metadata": {
    "collapsed": true
   },
   "outputs": [],
   "source": [
    "controls_test=X_test[['LotFrontage', 'LotArea', 'OverallQual', 'OverallCond', 'MasVnrArea', 'Foundation_BrkTil',\n",
    "                'Foundation_CBlock','Foundation_PConc','Foundation_Slab','Foundation_Stone','Foundation_Wood',\n",
    "                'TotalBsmtSF', 'Fireplaces','CentralAir_Y', 'FullBath', 'HalfBath','WoodDeckSF','OpenPorchSF',\n",
    "                'EnclosedPorch', 'ScreenPorch','PoolArea', 'MiscVal','MoSold', 'YrSold', 'YearBuilt','YearRemodAdd',\n",
    "                'Zone_C (all)','Zone_FV','Zone_RH','Zone_RL','Zone_RM','Utilities_AllPub','Utilities_NoSeWa',\n",
    "                'Neighborhood_Blmngtn','Neighborhood_Blueste','Neighborhood_BrDale','Neighborhood_BrkSide',\n",
    "                'Neighborhood_ClearCr','Neighborhood_CollgCr','Neighborhood_Crawfor','Neighborhood_Edwards',\n",
    "                'Neighborhood_Gilbert','Neighborhood_IDOTRR','Neighborhood_MeadowV','Neighborhood_Mitchel','Neighborhood_NAmes',\n",
    " 'Neighborhood_NPkVill','Neighborhood_NWAmes','Neighborhood_NoRidge','Neighborhood_NridgHt','Neighborhood_OldTown',\n",
    " 'Neighborhood_SWISU','Neighborhood_Sawyer','Neighborhood_SawyerW','Neighborhood_Somerst','Neighborhood_StoneBr',\n",
    " 'Neighborhood_Timber','Neighborhood_Veenker','RoofStyle_Flat','RoofStyle_Gable','RoofStyle_Gambrel',\n",
    " 'RoofStyle_Hip','RoofStyle_Mansard','RoofStyle_Shed','RoofMatl_ClyTile','RoofMatl_CompShg','RoofMatl_Metal',\n",
    " 'RoofMatl_Roll','RoofMatl_Tar&Grv','RoofMatl_WdShake','RoofMatl_WdShngl','Exterior_AsbShng','Exterior_AsphShn',\n",
    " 'Exterior_BrkComm', 'BsmtQual','Exterior_BrkFace','Exterior_CBlock','Exterior_CemntBd','Exterior_HdBoard',\n",
    " 'Exterior_ImStucc','Exterior_MetalSd','Exterior_Plywood','Exterior_Stone','Exterior_Stucco','Exterior_VinylSd',\n",
    " 'Exterior_Wd Sdng','Exterior_WdShing','BsmtFinish_ALQ','BsmtFinish_BLQ','BsmtFinish_GLQ','BsmtFinish_LwQ',\n",
    " 'BsmtFinish_Rec','BsmtFinish_Unf','FireplaceQu_Ex','FireplaceQu_Fa','FireplaceQu_Gd','FireplaceQu_Po',\n",
    " 'FireplaceQu_TA','Paving_N','Paving_P','Paving_Y','BsmtQual']]"
   ]
  },
  {
   "cell_type": "markdown",
   "metadata": {},
   "source": [
    "Now we can run our predictions for both the training set and the testing set and obtain our RMSE's.  The test RMSE is more important because it measures how well our model performs out of sample."
   ]
  },
  {
   "cell_type": "code",
   "execution_count": 2895,
   "metadata": {},
   "outputs": [],
   "source": [
    "lassopred_train=lasso_reg.predict(controls_train)\n",
    "lassopred_test=lasso_reg.predict(controls_test)"
   ]
  },
  {
   "cell_type": "code",
   "execution_count": 2896,
   "metadata": {},
   "outputs": [
    {
     "name": "stdout",
     "output_type": "stream",
     "text": [
      "Train RMSE: 25639.207417148533\n",
      "Test RMSE: 27322.021096749784\n"
     ]
    }
   ],
   "source": [
    "print(\"Train RMSE: {}\".format(np.sqrt(mean_squared_error(y_train,lassopred_train))))\n",
    "print(\"Test RMSE: {}\".format(np.sqrt(mean_squared_error(y_test,lassopred_test))))"
   ]
  },
  {
   "cell_type": "markdown",
   "metadata": {},
   "source": [
    "These values are still not super good.  Let's try another tuning method."
   ]
  },
  {
   "cell_type": "markdown",
   "metadata": {},
   "source": [
    "### **Tuning with Elastic Net**"
   ]
  },
  {
   "cell_type": "code",
   "execution_count": 2897,
   "metadata": {
    "scrolled": true
   },
   "outputs": [
    {
     "data": {
      "text/plain": [
       "ElasticNet(alpha=1.0, copy_X=True, fit_intercept=True, l1_ratio=0.5,\n",
       "      max_iter=1000, normalize=False, positive=False, precompute=False,\n",
       "      random_state=None, selection='cyclic', tol=0.0001, warm_start=False)"
      ]
     },
     "execution_count": 2897,
     "metadata": {},
     "output_type": "execute_result"
    }
   ],
   "source": [
    "elastic_reg=linear_model.ElasticNet()\n",
    "elastic_reg.fit(controls_train,y_train)"
   ]
  },
  {
   "cell_type": "code",
   "execution_count": 2898,
   "metadata": {},
   "outputs": [
    {
     "data": {
      "text/plain": [
       "0.84408652996129307"
      ]
     },
     "execution_count": 2898,
     "metadata": {},
     "output_type": "execute_result"
    }
   ],
   "source": [
    "elastic_reg.score(controls_train,y_train)"
   ]
  },
  {
   "cell_type": "code",
   "execution_count": 2899,
   "metadata": {
    "collapsed": true
   },
   "outputs": [],
   "source": [
    "elasticpred_train=elastic_reg.predict(controls_train)\n",
    "elasticpred_test=elastic_reg.predict(controls_test)"
   ]
  },
  {
   "cell_type": "code",
   "execution_count": 2900,
   "metadata": {
    "scrolled": true
   },
   "outputs": [
    {
     "name": "stdout",
     "output_type": "stream",
     "text": [
      "Train RMSE: 26773.899768276013\n",
      "Test RMSE: 27932.826267556768\n"
     ]
    }
   ],
   "source": [
    "print(\"Train RMSE: {}\".format(np.sqrt(mean_squared_error(y_train,elasticpred_train))))\n",
    "print(\"Test RMSE: {}\".format(np.sqrt(mean_squared_error(y_test,elasticpred_test))))"
   ]
  },
  {
   "cell_type": "markdown",
   "metadata": {},
   "source": [
    "This is about the same.  Let's take one more shot at tuning this linear model."
   ]
  },
  {
   "cell_type": "markdown",
   "metadata": {},
   "source": [
    "### **Tuning with Ridge**"
   ]
  },
  {
   "cell_type": "code",
   "execution_count": 2901,
   "metadata": {},
   "outputs": [
    {
     "data": {
      "text/plain": [
       "RidgeCV(alphas=(0.1, 1.0, 10.0), cv=None, fit_intercept=True, gcv_mode=None,\n",
       "    normalize=False, scoring=None, store_cv_values=False)"
      ]
     },
     "execution_count": 2901,
     "metadata": {},
     "output_type": "execute_result"
    }
   ],
   "source": [
    "ridge_reg=linear_model.RidgeCV()\n",
    "ridge_reg.fit(controls_train,y_train)"
   ]
  },
  {
   "cell_type": "code",
   "execution_count": 2902,
   "metadata": {
    "collapsed": true
   },
   "outputs": [],
   "source": [
    "ridgepred_train=ridge_reg.predict(controls_train)\n",
    "ridgepred_test=ridge_reg.predict(controls_test)"
   ]
  },
  {
   "cell_type": "code",
   "execution_count": 2903,
   "metadata": {},
   "outputs": [
    {
     "name": "stdout",
     "output_type": "stream",
     "text": [
      "Train RMSE: 24590.939180165697\n",
      "Test RMSE: 27424.791228947273\n"
     ]
    }
   ],
   "source": [
    "print(\"Train RMSE: {}\".format(np.sqrt(mean_squared_error(y_train,ridgepred_train))))\n",
    "print(\"Test RMSE: {}\".format(np.sqrt(mean_squared_error(y_test,ridgepred_test))))"
   ]
  },
  {
   "cell_type": "markdown",
   "metadata": {},
   "source": [
    "Looks like Lasso performed the best out of the tuning methods.  While this did provide a marginal improvement, I'm interested to see what another model has to offer."
   ]
  },
  {
   "cell_type": "markdown",
   "metadata": {},
   "source": [
    "### **K-Nearest Neighbors**"
   ]
  },
  {
   "cell_type": "code",
   "execution_count": 2904,
   "metadata": {
    "collapsed": true
   },
   "outputs": [],
   "source": [
    "from sklearn.neighbors import KNeighborsClassifier, KNeighborsRegressor\n",
    "from sklearn.model_selection import train_test_split, GridSearchCV\n",
    "from sklearn.metrics import f1_score, classification_report, accuracy_score, mean_squared_error"
   ]
  },
  {
   "cell_type": "code",
   "execution_count": 2905,
   "metadata": {},
   "outputs": [
    {
     "name": "stdout",
     "output_type": "stream",
     "text": [
      "Best Params: {'n_neighbors': 9, 'p': 1, 'weights': 'distance'}\n",
      "Train RMSE: 173.06696366737205\tTest RMSE: 37187.20236687\n"
     ]
    }
   ],
   "source": [
    "kn_reg = KNeighborsRegressor()\n",
    "gridsearch = GridSearchCV(kn_reg, {\"n_neighbors\": [1, 3, 5, 7, 9, 11], \"weights\": ['uniform', 'distance'], \n",
    "                                'p': [1, 2, 3]}, scoring='neg_mean_squared_error')\n",
    "gridsearch.fit(controls_train, y_train)\n",
    "print(\"Best Params: {}\".format(gridsearch.best_params_))\n",
    "y_pred_train = gridsearch.predict(controls_train)\n",
    "y_pred_test = gridsearch.predict(controls_test)\n",
    "print(\"Train RMSE: {}\\tTest RMSE: {}\".format(np.sqrt(mean_squared_error(y_train, y_pred_train)),\n",
    "                                           np.sqrt(mean_squared_error(y_test, y_pred_test))))"
   ]
  },
  {
   "cell_type": "markdown",
   "metadata": {},
   "source": [
    "The Training RMSE is substantially better but the Test RMSE leaves a lot to be desired.  Let's see if we can beat all of these models with a few simple, intuitive features in a different model."
   ]
  },
  {
   "cell_type": "markdown",
   "metadata": {},
   "source": [
    "### **Random Forest**"
   ]
  },
  {
   "cell_type": "markdown",
   "metadata": {},
   "source": [
    "I'm going to attempt this model using only LotArea, OverallQual, YearBuilt, and TotRmsAbvGrd.  The advantages of this approach are two-fold.  First, each of these variables are clear inuitive indicators of home value.  Second, they are so foundational that they are likely to be in any data set we run our model on.  We can also build on this if it proves too simplistic."
   ]
  },
  {
   "cell_type": "code",
   "execution_count": 2906,
   "metadata": {},
   "outputs": [
    {
     "data": {
      "text/plain": [
       "RandomForestRegressor(bootstrap=True, criterion='mse', max_depth=None,\n",
       "           max_features='auto', max_leaf_nodes=None,\n",
       "           min_impurity_split=1e-07, min_samples_leaf=1,\n",
       "           min_samples_split=2, min_weight_fraction_leaf=0.0,\n",
       "           n_estimators=10, n_jobs=1, oob_score=False, random_state=None,\n",
       "           verbose=0, warm_start=False)"
      ]
     },
     "execution_count": 2906,
     "metadata": {},
     "output_type": "execute_result"
    }
   ],
   "source": [
    "from sklearn.ensemble import RandomForestRegressor\n",
    "\n",
    "predictor_cols = ['LotArea', 'OverallQual', 'YearBuilt', 'TotRmsAbvGrd']\n",
    "\n",
    "train_X = X_train[predictor_cols]\n",
    "\n",
    "forest_reg = RandomForestRegressor()\n",
    "forest_reg.fit(train_X, y_train)"
   ]
  },
  {
   "cell_type": "code",
   "execution_count": 2907,
   "metadata": {},
   "outputs": [
    {
     "data": {
      "text/plain": [
       "array([ 116100.        ,  145890.        ,  275122.5       ,\n",
       "        108850.        ,  121372.7       ,  223550.        ,\n",
       "        289150.        ,  131927.8       ,  116490.        ,\n",
       "        103050.        ,  111650.        ,  349036.1       ,\n",
       "        126860.        ,  174550.        ,  166300.        ,\n",
       "        236595.        ,  214797.        ,  109950.        ,\n",
       "        155440.        ,  146510.        ,  132240.        ,\n",
       "        359300.        ,  148380.        ,  216350.        ,\n",
       "        147900.        ,  279750.        ,  121250.        ,\n",
       "        260220.        ,  235020.        ,  297800.        ,\n",
       "        111000.        ,  128427.8       ,  195200.        ,\n",
       "        140990.5       ,  142850.        ,  157295.        ,\n",
       "         86600.        ,  148390.4       ,  102940.        ,\n",
       "        144240.        ,  125900.        ,  357132.1       ,\n",
       "         97590.        ,  125760.        ,  193390.        ,\n",
       "        208610.        ,   90823.        ,  169390.        ,\n",
       "        110250.        ,  173450.        ,  245017.7       ,\n",
       "        137830.        ,  328850.        ,  155170.        ,\n",
       "        141400.        ,  146400.        ,  158500.        ,\n",
       "        278600.        ,  142550.        ,  116600.        ,\n",
       "        252400.        ,  305690.        ,  101820.        ,\n",
       "        153530.        ,  187620.        ,  115606.6       ,\n",
       "        103965.        ,  161425.        ,  114100.        ,\n",
       "        102098.        ,  133330.        ,  165805.        ,\n",
       "        153950.        ,  149500.        ,  293580.        ,\n",
       "        296600.        ,  208312.4       ,  143100.        ,\n",
       "        126730.        ,  124550.        ,  146850.        ,\n",
       "        171950.        ,  245097.7       ,  161405.        ,\n",
       "        262800.        ,  116385.        ,  157700.        ,\n",
       "        147650.        ,  102650.        ,   98850.        ,\n",
       "        106400.        ,  181947.9       ,  150390.        ,\n",
       "        204310.        ,  119925.        ,  188840.        ,\n",
       "        180179.7       ,  109930.        ,  104610.        ,\n",
       "        228700.        ,  101090.        ,  311713.2       ,\n",
       "        175940.        ,  142990.        ,  167390.        ,\n",
       "        121300.        ,  127975.        ,  333155.2       ,\n",
       "        139185.        ,  146040.        ,  111575.        ,\n",
       "        143100.        ,   55753.3       ,  131450.        ,\n",
       "        172070.        ,  152250.        ,  194380.        ,\n",
       "        125836.4       ,  125485.        ,  147500.        ,\n",
       "        135890.        ,  147400.        ,  122690.        ,\n",
       "        132688.7       ,   98440.        ,  189850.        ,\n",
       "        142150.        ,  174990.        ,  179282.5       ,\n",
       "        223260.        ,  293540.        ,  234759.        ,\n",
       "        173770.1       ,  152730.        ,  211450.        ,\n",
       "        182089.        ,  138540.        ,  169200.        ,\n",
       "        244350.        ,  150800.        ,  214770.        ,\n",
       "         86201.1       ,  205020.        ,  253189.        ,\n",
       "        130150.        ,  167460.        ,  121700.        ,\n",
       "        184050.        ,  117345.        ,  181386.        ,\n",
       "        126350.        ,  211527.9       ,  175400.        ,\n",
       "        227050.        ,  203774.8       ,  125075.        ,\n",
       "        225250.        ,  109986.6       ,  135750.        ,\n",
       "        257018.        ,   76000.        ,  153890.        ,\n",
       "        100150.        ,  123840.9       ,  200690.        ,\n",
       "        107476.6       ,  103150.        ,  164165.        ,\n",
       "        125130.        ,  151340.        ,   95320.        ,\n",
       "        179100.        ,  115378.3       ,  174138.        ,\n",
       "        176530.        ,  210479.        ,  213490.        ,\n",
       "        146890.        ,  159600.        ,  239800.        ,\n",
       "        193701.5       ,  158390.        ,  210690.        ,\n",
       "        169360.        ,  143200.        ,  153140.        ,\n",
       "        192843.2       ,  111824.6       ,  151350.        ,\n",
       "        191416.5       ,  171650.        ,  128485.8       ,\n",
       "         98690.        ,  176960.        ,  130065.9       ,\n",
       "        134450.        ,  267240.        ,  229990.        ,\n",
       "        124350.        ,  180935.        ,  219658.6       ,\n",
       "        111722.1       ,  133950.        ,   99375.        ,\n",
       "        101150.        ,  222199.        ,  117150.        ,\n",
       "        155660.        ,  199900.        ,  166550.2       ,\n",
       "        126280.        ,  126796.        ,  162750.        ,\n",
       "        153900.        ,   95686.        ,  126550.        ,\n",
       "        125075.        ,  118340.        ,  117095.        ,\n",
       "        139400.        ,  304500.        ,  120950.        ,\n",
       "        229835.        ,  137935.        ,  130010.9       ,\n",
       "        121945.        ,  240330.        ,  185450.        ,\n",
       "        197993.4       ,  162400.        ,  121220.        ,\n",
       "        223350.        ,   79500.        ,  142010.        ,\n",
       "        119804.3       ,  281000.        ,  130196.        ,\n",
       "        122830.        ,  165940.        ,  262472.6       ,\n",
       "        290980.        ,  142010.        ,  128436.        ,\n",
       "        268400.        ,  154605.        ,  248119.8       ,\n",
       "        285250.        ,  144330.        ,  155025.        ,\n",
       "        183750.        ,  193280.        ,  124700.6       ,\n",
       "        302002.8       ,  165450.        ,  176840.        ,\n",
       "        234087.9       ,   98890.        ,  212600.        ,\n",
       "        122957.5       ,  172380.        ,  153287.5       ,\n",
       "        101550.        ,  114890.        ,  151480.        ,\n",
       "        201950.        ,  113500.        ,  212566.5       ,\n",
       "        133596.        ,  217640.        ,  127250.        ,\n",
       "         82137.2       ,  220780.        ,  211977.4       ,\n",
       "        243373.5       ,  161450.        ,  135265.        ,\n",
       "        248319.        ,  159493.23333333,  145322.5       ,\n",
       "         99279.3       ,  158850.        ,  341496.8       ,\n",
       "        139910.        ,  258029.8       ,  129550.        ,\n",
       "        360400.        ,  137790.        ,  123372.7       ])"
      ]
     },
     "execution_count": 2907,
     "metadata": {},
     "output_type": "execute_result"
    }
   ],
   "source": [
    "test_X = X_test[predictor_cols]\n",
    "predicted_prices = forest_reg.predict(test_X)\n",
    "predicted_prices"
   ]
  },
  {
   "cell_type": "code",
   "execution_count": 2908,
   "metadata": {},
   "outputs": [
    {
     "data": {
      "text/plain": [
       "33651.08345595633"
      ]
     },
     "execution_count": 2908,
     "metadata": {},
     "output_type": "execute_result"
    }
   ],
   "source": [
    "np.sqrt(mean_squared_error(y_test, predicted_prices))"
   ]
  },
  {
   "cell_type": "markdown",
   "metadata": {},
   "source": [
    "This isn't good either.  Yeesh.  Let's not give up yet though, what we started with here was fairly naive so we may be able to boost our success quite a bit."
   ]
  },
  {
   "cell_type": "code",
   "execution_count": 2909,
   "metadata": {
    "collapsed": true
   },
   "outputs": [],
   "source": [
    "predictor_cols2 = ['LotArea', 'OverallQual', 'YearBuilt', 'TotRmsAbvGrd','YrSold','MoSold']"
   ]
  },
  {
   "cell_type": "code",
   "execution_count": 2910,
   "metadata": {},
   "outputs": [
    {
     "data": {
      "text/plain": [
       "RandomForestRegressor(bootstrap=True, criterion='mse', max_depth=None,\n",
       "           max_features='auto', max_leaf_nodes=None,\n",
       "           min_impurity_split=1e-07, min_samples_leaf=1,\n",
       "           min_samples_split=2, min_weight_fraction_leaf=0.0,\n",
       "           n_estimators=10, n_jobs=1, oob_score=False, random_state=None,\n",
       "           verbose=0, warm_start=False)"
      ]
     },
     "execution_count": 2910,
     "metadata": {},
     "output_type": "execute_result"
    }
   ],
   "source": [
    "train_X = X_train[predictor_cols2]\n",
    "forest_reg.fit(train_X, y_train)"
   ]
  },
  {
   "cell_type": "code",
   "execution_count": 2911,
   "metadata": {},
   "outputs": [
    {
     "data": {
      "text/plain": [
       "array([ 110600.4       ,  109800.        ,  277122.5       ,\n",
       "         85490.        ,  110185.        ,  220705.        ,\n",
       "        229232.5       ,  126723.4       ,  121232.5       ,\n",
       "        100980.        ,  116040.        ,  321073.2       ,\n",
       "        132080.        ,  156600.        ,  131100.        ,\n",
       "        230480.        ,  232847.        ,  111705.        ,\n",
       "        133660.        ,  152530.        ,  137360.        ,\n",
       "        329822.        ,  160840.        ,  190370.        ,\n",
       "        173800.        ,  272800.        ,  120000.        ,\n",
       "        269314.        ,  238592.5       ,  308500.        ,\n",
       "        107000.        ,  129002.        ,  199340.        ,\n",
       "        153190.        ,  142440.        ,  148950.        ,\n",
       "         87970.        ,  144795.1       ,  108750.        ,\n",
       "        138520.        ,  122800.        ,  356984.2       ,\n",
       "         87080.        ,  145490.        ,  196937.        ,\n",
       "        225110.        ,   95171.        ,  170905.        ,\n",
       "        143940.        ,  172538.        ,  236027.4       ,\n",
       "        128340.        ,  321807.8       ,  165000.        ,\n",
       "        134980.        ,  152500.        ,  174500.        ,\n",
       "        271600.        ,  133715.        ,  127250.        ,\n",
       "        278300.        ,  281212.8       ,  110477.1       ,\n",
       "        144140.        ,  201352.4       ,  131855.        ,\n",
       "        114527.6       ,  161330.        ,  106788.        ,\n",
       "        107650.        ,  146490.        ,  177390.        ,\n",
       "        146900.        ,  140565.        ,  290441.3       ,\n",
       "        269050.        ,  202761.8       ,  130000.        ,\n",
       "        137160.        ,  146090.        ,  153630.        ,\n",
       "        188100.        ,  254187.7       ,  163055.        ,\n",
       "        284000.        ,  119550.        ,  169190.        ,\n",
       "        135975.        ,  111700.        ,   82580.        ,\n",
       "        111625.        ,  193993.7       ,  148430.4       ,\n",
       "        238413.1       ,  119350.        ,  190490.        ,\n",
       "        181486.76666667,  119375.        ,  118650.        ,\n",
       "        208420.        ,   99275.        ,  287115.6       ,\n",
       "        155240.        ,  135880.        ,  161210.        ,\n",
       "        125180.        ,  116550.        ,  321455.        ,\n",
       "        135795.        ,  145630.        ,  116665.        ,\n",
       "        143150.        ,   54423.3       ,  133325.        ,\n",
       "        187620.        ,  169430.        ,  214850.        ,\n",
       "        120972.2       ,  119900.        ,  148360.        ,\n",
       "        136860.        ,  157025.8       ,  111040.4       ,\n",
       "        153680.        ,  103025.        ,  178000.        ,\n",
       "        145600.        ,  141320.        ,  166486.2       ,\n",
       "        211050.        ,  273340.        ,  241963.4       ,\n",
       "        180430.        ,  151930.        ,  219500.        ,\n",
       "        197120.        ,  127980.        ,  155350.        ,\n",
       "        303783.3       ,  152410.        ,  186940.        ,\n",
       "         62212.2       ,  227900.        ,  323893.2       ,\n",
       "        134900.        ,  162030.        ,  116115.        ,\n",
       "        190303.4       ,  110050.        ,  190080.        ,\n",
       "        109000.4       ,  202731.3       ,  184900.        ,\n",
       "        240437.        ,  211501.1       ,  113000.        ,\n",
       "        238750.        ,  132727.4       ,  118837.9       ,\n",
       "        232260.        ,   75930.        ,  166720.        ,\n",
       "        112800.        ,  127845.        ,  218930.        ,\n",
       "        125350.        ,   94950.        ,  151220.        ,\n",
       "        129340.        ,  144460.        ,   96200.        ,\n",
       "        215690.        ,  116090.        ,  186949.        ,\n",
       "        139205.        ,  215140.        ,  210140.        ,\n",
       "        135400.        ,  164350.        ,  247510.        ,\n",
       "        190909.5       ,  167000.        ,  218650.        ,\n",
       "        160970.        ,  121320.        ,  165020.        ,\n",
       "        197285.        ,   92910.        ,  141350.        ,\n",
       "        181264.        ,  169850.        ,  133485.8       ,\n",
       "        121540.        ,  182070.        ,  137815.        ,\n",
       "        122750.        ,  252900.        ,  188840.        ,\n",
       "        134350.        ,  204415.        ,  212182.3       ,\n",
       "        107495.        ,  142705.        ,   94500.        ,\n",
       "         90230.        ,  214000.        ,  119150.        ,\n",
       "        150090.        ,  214710.        ,  170668.6       ,\n",
       "        144160.        ,  119750.        ,  161550.        ,\n",
       "        145295.        ,   99490.        ,  125600.        ,\n",
       "        112633.7       ,  112115.        ,  117625.        ,\n",
       "        144472.5       ,  295580.        ,  117935.        ,\n",
       "        265739.9       ,  138550.        ,  131865.        ,\n",
       "        119500.        ,  220380.        ,  188204.        ,\n",
       "        205940.        ,  160450.        ,  111228.        ,\n",
       "        218800.        ,   83800.        ,  143040.        ,\n",
       "        100301.1       ,  253036.        ,  117300.        ,\n",
       "        133870.        ,  152320.1       ,  258792.4       ,\n",
       "        276125.        ,  138110.        ,  125343.7       ,\n",
       "        310300.        ,  174300.        ,  238179.1       ,\n",
       "        261871.        ,  140920.5       ,  159010.        ,\n",
       "        186400.        ,  211477.        ,  133450.6       ,\n",
       "        273094.1       ,  168660.        ,  190590.        ,\n",
       "        232240.        ,  108675.        ,  226850.        ,\n",
       "        131620.        ,  157700.        ,  151650.        ,\n",
       "        113800.        ,  116947.5       ,  159790.        ,\n",
       "        195500.        ,  107390.        ,  202465.        ,\n",
       "        117698.6       ,  233079.        ,  120050.        ,\n",
       "         97819.3       ,  239077.        ,  211787.9       ,\n",
       "        247647.        ,  164950.        ,  119810.        ,\n",
       "        271396.3       ,  160849.9       ,  151330.4       ,\n",
       "        114210.        ,  152350.        ,  322411.2       ,\n",
       "        136520.        ,  255390.        ,  123000.        ,\n",
       "        329718.2       ,  140547.5       ,  126775.        ])"
      ]
     },
     "execution_count": 2911,
     "metadata": {},
     "output_type": "execute_result"
    }
   ],
   "source": [
    "test_X = X_test[predictor_cols2]\n",
    "predicted_prices2 = forest_reg.predict(test_X)\n",
    "predicted_prices2"
   ]
  },
  {
   "cell_type": "code",
   "execution_count": 2912,
   "metadata": {},
   "outputs": [
    {
     "data": {
      "text/plain": [
       "34604.252141645782"
      ]
     },
     "execution_count": 2912,
     "metadata": {},
     "output_type": "execute_result"
    }
   ],
   "source": [
    "np.sqrt(mean_squared_error(y_test, predicted_prices2))"
   ]
  },
  {
   "cell_type": "markdown",
   "metadata": {},
   "source": [
    "I am at a loss.  Adding variables related to time of sale did not improve our RMSE at all.  I still like the simplicy of the random forest model however, so I'm going to submit the first version of this to kaggle."
   ]
  },
  {
   "cell_type": "markdown",
   "metadata": {},
   "source": [
    "### **Kaggle Predictions**"
   ]
  },
  {
   "cell_type": "code",
   "execution_count": 2915,
   "metadata": {
    "collapsed": true
   },
   "outputs": [],
   "source": [
    "test_ids = test.Id.to_frame()"
   ]
  },
  {
   "cell_type": "code",
   "execution_count": 2913,
   "metadata": {},
   "outputs": [],
   "source": [
    "predictor_cols = ['LotArea', 'OverallQual', 'YearBuilt', 'TotRmsAbvGrd']\n",
    "train_X = X_train[predictor_cols]\n",
    "forest_reg.fit(train_X, y_train)\n",
    "test_X = test[predictor_cols]\n",
    "predicted_prices = forest_reg.predict(test_X)"
   ]
  },
  {
   "cell_type": "code",
   "execution_count": 2920,
   "metadata": {},
   "outputs": [],
   "source": [
    "submission=pd.DataFrame(data=predicted_prices,    # values\n",
    "            index=test_ids,    # 1st column as index\n",
    "              )  # 1st row as the column names"
   ]
  },
  {
   "cell_type": "code",
   "execution_count": 2922,
   "metadata": {},
   "outputs": [
    {
     "data": {
      "text/html": [
       "<div>\n",
       "<style>\n",
       "    .dataframe thead tr:only-child th {\n",
       "        text-align: right;\n",
       "    }\n",
       "\n",
       "    .dataframe thead th {\n",
       "        text-align: left;\n",
       "    }\n",
       "\n",
       "    .dataframe tbody tr th {\n",
       "        vertical-align: top;\n",
       "    }\n",
       "</style>\n",
       "<table border=\"1\" class=\"dataframe\">\n",
       "  <thead>\n",
       "    <tr style=\"text-align: right;\">\n",
       "      <th></th>\n",
       "      <th>0</th>\n",
       "    </tr>\n",
       "  </thead>\n",
       "  <tbody>\n",
       "    <tr>\n",
       "      <th>1461</th>\n",
       "      <td>276097.6</td>\n",
       "    </tr>\n",
       "    <tr>\n",
       "      <th>1462</th>\n",
       "      <td>276097.6</td>\n",
       "    </tr>\n",
       "    <tr>\n",
       "      <th>1463</th>\n",
       "      <td>276097.6</td>\n",
       "    </tr>\n",
       "    <tr>\n",
       "      <th>1464</th>\n",
       "      <td>276097.6</td>\n",
       "    </tr>\n",
       "    <tr>\n",
       "      <th>1465</th>\n",
       "      <td>276097.6</td>\n",
       "    </tr>\n",
       "  </tbody>\n",
       "</table>\n",
       "</div>"
      ],
      "text/plain": [
       "             0\n",
       "1461  276097.6\n",
       "1462  276097.6\n",
       "1463  276097.6\n",
       "1464  276097.6\n",
       "1465  276097.6"
      ]
     },
     "execution_count": 2922,
     "metadata": {},
     "output_type": "execute_result"
    }
   ],
   "source": [
    "submission.head()"
   ]
  },
  {
   "cell_type": "code",
   "execution_count": 2921,
   "metadata": {},
   "outputs": [],
   "source": [
    "submission.to_csv('submission.csv', index=False)"
   ]
  }
 ],
 "metadata": {
  "kernelspec": {
   "display_name": "Python 3",
   "language": "python",
   "name": "python3"
  },
  "language_info": {
   "codemirror_mode": {
    "name": "ipython",
    "version": 3
   },
   "file_extension": ".py",
   "mimetype": "text/x-python",
   "name": "python",
   "nbconvert_exporter": "python",
   "pygments_lexer": "ipython3",
   "version": "3.6.1"
  }
 },
 "nbformat": 4,
 "nbformat_minor": 2
}
